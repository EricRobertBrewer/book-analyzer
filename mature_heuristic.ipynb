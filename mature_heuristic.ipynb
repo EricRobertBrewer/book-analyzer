{
 "cells": [
  {
   "cell_type": "markdown",
   "metadata": {},
   "source": [
    "# mature_heuristic"
   ]
  },
  {
   "cell_type": "code",
   "execution_count": null,
   "metadata": {},
   "outputs": [],
   "source": [
    "import numpy as np\n",
    "\n",
    "from sites.bookcave import bookcave"
   ]
  },
  {
   "cell_type": "code",
   "execution_count": null,
   "metadata": {},
   "outputs": [],
   "source": [
    "paragraph_inputs, Y, categories, category_labels, book_ids, books_df, _, _, _ =\\\n",
    "    bookcave.get_data({'text'},\n",
    "                      text_source='paragraphs',\n",
    "                      text_min_len=250,\n",
    "                      return_meta=True)\n",
    "paragraph_texts = paragraph_inputs['text']\n",
    "len(paragraph_texts)"
   ]
  },
  {
   "cell_type": "code",
   "execution_count": null,
   "metadata": {},
   "outputs": [],
   "source": [
    "text_paragraphs, text_section_ids, text_sections = [], [], []\n",
    "for paragraphs, section_ids, sections in paragraph_texts:\n",
    "    text_paragraphs.append(paragraphs)\n",
    "    text_section_ids.append(section_ids)\n",
    "    text_sections.append(sections)\n",
    "len(text_paragraphs), len(text_section_ids), len(text_sections)"
   ]
  },
  {
   "cell_type": "code",
   "execution_count": null,
   "metadata": {},
   "outputs": [],
   "source": [
    "Y.shape"
   ]
  },
  {
   "cell_type": "code",
   "execution_count": null,
   "metadata": {},
   "outputs": [],
   "source": [
    "h = np.array([(sum(Y[:, i]) + 1)/len(paragraphs) for i, paragraphs in enumerate(text_paragraphs)])\n",
    "for i in [np.argmin(h), np.argmax(h)]:\n",
    "    print('Book `{}` has heuristic {:.6f} ({:d}/{:d}).'.format(book_ids[i], h[i], sum(Y[:, i]) + 1, len(text_paragraphs[i])))"
   ]
  },
  {
   "cell_type": "code",
   "execution_count": null,
   "metadata": {},
   "outputs": [],
   "source": [
    "def print_top(n):\n",
    "    top_indices = np.argpartition(h, -n)[-n:]\n",
    "    sorted_top_indices = top_indices[np.argsort(h[top_indices])]\n",
    "    for i in sorted_top_indices:\n",
    "        print('Book `{}` has heuristic {:.6f} ({:d}/{:d}).'.format(book_ids[i], h[i], sum(Y[:, i]) + 1, len(text_paragraphs[i])))"
   ]
  },
  {
   "cell_type": "code",
   "execution_count": null,
   "metadata": {},
   "outputs": [],
   "source": [
    "print_top(20)"
   ]
  },
  {
   "cell_type": "code",
   "execution_count": null,
   "metadata": {},
   "outputs": [],
   "source": []
  }
 ],
 "metadata": {
  "kernelspec": {
   "display_name": "Python 3",
   "language": "python",
   "name": "python3"
  },
  "language_info": {
   "codemirror_mode": {
    "name": "ipython",
    "version": 3
   },
   "file_extension": ".py",
   "mimetype": "text/x-python",
   "name": "python",
   "nbconvert_exporter": "python",
   "pygments_lexer": "ipython3",
   "version": "3.6.8"
  }
 },
 "nbformat": 4,
 "nbformat_minor": 2
}
