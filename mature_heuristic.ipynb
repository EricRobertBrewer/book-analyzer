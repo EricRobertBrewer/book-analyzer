{
 "cells": [
  {
   "cell_type": "markdown",
   "metadata": {},
   "source": [
    "# mature_heuristic"
   ]
  },
  {
   "cell_type": "code",
   "execution_count": null,
   "metadata": {},
   "outputs": [],
   "source": [
    "import numpy as np\n",
    "\n",
    "from classification import shared_parameters\n",
    "from sites.bookcave import bookcave"
   ]
  },
  {
   "cell_type": "code",
   "execution_count": null,
   "metadata": {},
   "outputs": [],
   "source": [
    "min_len, max_len = shared_parameters.DATA_PARAGRAPH_MIN_LEN, shared_parameters.DATA_PARAGRAPH_MAX_LEN"
   ]
  },
  {
   "cell_type": "code",
   "execution_count": null,
   "metadata": {},
   "outputs": [],
   "source": [
    "inputs, Y, categories, category_levels, book_ids, books_df, _, _, _ = \\\n",
    "    bookcave.get_data({'paragraphs'},\n",
    "                      min_len=min_len,\n",
    "                      max_len=max_len,\n",
    "                      categories_mode='hard',\n",
    "                      return_meta=True)\n",
    "paragraph_texts = inputs['paragraphs']\n",
    "len(paragraph_texts)"
   ]
  },
  {
   "cell_type": "code",
   "execution_count": null,
   "metadata": {},
   "outputs": [],
   "source": [
    "text_paragraphs, text_section_ids, text_sections = zip(*paragraph_texts)\n",
    "len(text_paragraphs), len(text_section_ids), len(text_sections)"
   ]
  },
  {
   "cell_type": "code",
   "execution_count": null,
   "metadata": {},
   "outputs": [],
   "source": [
    "Y.shape"
   ]
  },
  {
   "cell_type": "code",
   "execution_count": null,
   "metadata": {},
   "outputs": [],
   "source": [
    "h = np.array([sum(Y[:, i]) for i in range(len(text_paragraphs))])\n",
    "for i in [np.argmin(h), np.argmax(h)]:\n",
    "    print('Book `{}` has total rating {:d}.'.format(book_ids[i], h[i]))"
   ]
  },
  {
   "cell_type": "code",
   "execution_count": null,
   "metadata": {},
   "outputs": [],
   "source": [
    "def print_top(n):\n",
    "    top_indices = np.argpartition(h, -n)[-n:]\n",
    "    sorted_top_indices = top_indices[np.argsort(h[top_indices])]\n",
    "    for i in sorted_top_indices:\n",
    "        print('Book `{}` has heuristic {:d}.'.format(book_ids[i], h[i]))"
   ]
  },
  {
   "cell_type": "code",
   "execution_count": null,
   "metadata": {},
   "outputs": [],
   "source": [
    "print_top(60)"
   ]
  },
  {
   "cell_type": "code",
   "execution_count": null,
   "metadata": {},
   "outputs": [],
   "source": []
  }
 ],
 "metadata": {
  "kernelspec": {
   "display_name": "Python 3",
   "language": "python",
   "name": "python3"
  },
  "language_info": {
   "codemirror_mode": {
    "name": "ipython",
    "version": 3
   },
   "file_extension": ".py",
   "mimetype": "text/x-python",
   "name": "python",
   "nbconvert_exporter": "python",
   "pygments_lexer": "ipython3",
   "version": "3.7.4"
  }
 },
 "nbformat": 4,
 "nbformat_minor": 2
}
