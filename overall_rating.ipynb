{
 "cells": [
  {
   "cell_type": "markdown",
   "metadata": {},
   "source": [
    "# overall_rating"
   ]
  },
  {
   "cell_type": "code",
   "execution_count": null,
   "metadata": {},
   "outputs": [],
   "source": [
    "import os\n",
    "\n",
    "import matplotlib.pyplot as plt\n",
    "import numpy as np\n",
    "from sklearn.metrics import accuracy_score\n",
    "\n",
    "import folders"
   ]
  },
  {
   "cell_type": "code",
   "execution_count": null,
   "metadata": {},
   "outputs": [],
   "source": [
    "def get_y(path):\n",
    "    with open(path, 'r', encoding='utf-8') as fd:\n",
    "        # Read column names.\n",
    "        header = fd.readline()[:-1]\n",
    "        column_names = header.split('\\t')\n",
    "        for i, column_name in enumerate(column_names):\n",
    "            if i % 2 == 1 and column_name[:-5] != column_names[i - 1][:-5]:\n",
    "                raise ValueError('Mismatched column names: {} and {}'.format(column_name, column_names[i - 1]))\n",
    "                \n",
    "        # Read values.\n",
    "        n_categories = len(column_names)//2\n",
    "        y_true, y_pred = [[] for _ in range(n_categories)], [[] for _ in range(n_categories)]\n",
    "        line = fd.readline()[:-1]\n",
    "        while len(line) > 0:\n",
    "            values = [int(part) for part in line.split('\\t')]\n",
    "            for i, value in enumerate(values):\n",
    "                j = i//2\n",
    "                if i % 2 == 0:\n",
    "                    y_true[j].append(value)\n",
    "                else:\n",
    "                    y_pred[j].append(value)\n",
    "            line = fd.readline()[:-1]\n",
    "    return np.array(y_true), np.array(y_pred)"
   ]
  },
  {
   "cell_type": "code",
   "execution_count": null,
   "metadata": {},
   "outputs": [],
   "source": [
    "def get_overall(y):\n",
    "    return [max(y[:7, i]) for i in range(y.shape[1])]"
   ]
  },
  {
   "cell_type": "code",
   "execution_count": null,
   "metadata": {},
   "outputs": [],
   "source": [
    "def print_model_accuracies(model_path, latex=False):\n",
    "    fnames = os.listdir(model_path)\n",
    "    for fname in fnames:\n",
    "        path = os.path.join(model_path, fname)\n",
    "        y_true, y_pred = get_y(path)\n",
    "        if y_true.shape[1] == 0:\n",
    "            continue\n",
    "        print('{}'.format(path), end='')\n",
    "        category_accuracies = []\n",
    "        for i in range(len(y_true)):\n",
    "            accuracy = accuracy_score(y_true[i], y_pred[i])\n",
    "            category_accuracies.append(accuracy)\n",
    "        avg_accuracy = sum(category_accuracies)/len(category_accuracies)\n",
    "        overall_true = get_overall(y_true)\n",
    "        overall_pred = get_overall(y_pred)\n",
    "        overall_accuracy = accuracy_score(overall_true, overall_pred)\n",
    "        if latex:\n",
    "            for accuracy in category_accuracies:\n",
    "                print(' & {:.4f}'.format(accuracy), end='')\n",
    "            print(' & {:.4f}'.format(avg_accuracy), end='')\n",
    "            print(' & {:.4f}'.format(overall_accuracy), end='')\n",
    "            print('\\\\\\\\')\n",
    "        else:\n",
    "            for accuracy in category_accuracies:\n",
    "                print(' {:.4f}'.format(accuracy), end='')\n",
    "            print(' {:.4f}'.format(avg_accuracy), end='')\n",
    "            print(' {:.4f}'.format(overall_accuracy))"
   ]
  },
  {
   "cell_type": "code",
   "execution_count": null,
   "metadata": {
    "scrolled": false
   },
   "outputs": [],
   "source": [
    "model_names = os.listdir(folders.PREDICTIONS_PATH)\n",
    "for model_name in model_names:\n",
    "    if model_name == 'baselines':\n",
    "        baselines_path = os.path.join(folders.PREDICTIONS_PATH, model_name)\n",
    "        baseline_model_names = os.listdir(baselines_path)\n",
    "        for baseline_model_name in baseline_model_names:\n",
    "            baseline_model_path = os.path.join(baselines_path, baseline_model_name)\n",
    "            print_model_accuracies(baseline_model_path, latex=True)\n",
    "        continue\n",
    "    model_path = os.path.join(folders.PREDICTIONS_PATH, model_name)\n",
    "    print_model_accuracies(model_path, latex=True)"
   ]
  },
  {
   "cell_type": "code",
   "execution_count": null,
   "metadata": {},
   "outputs": [],
   "source": []
  }
 ],
 "metadata": {
  "kernelspec": {
   "display_name": "Python 3",
   "language": "python",
   "name": "python3"
  },
  "language_info": {
   "codemirror_mode": {
    "name": "ipython",
    "version": 3
   },
   "file_extension": ".py",
   "mimetype": "text/x-python",
   "name": "python",
   "nbconvert_exporter": "python",
   "pygments_lexer": "ipython3",
   "version": "3.6.8"
  }
 },
 "nbformat": 4,
 "nbformat_minor": 2
}
