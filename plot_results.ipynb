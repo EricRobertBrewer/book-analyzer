{
 "cells": [
  {
   "cell_type": "code",
   "execution_count": null,
   "metadata": {},
   "outputs": [],
   "source": [
    "import os\n",
    "\n",
    "import numpy as np\n",
    "import matplotlib.pyplot as plt\n",
    "\n",
    "import folders\n",
    "from sites.bookcave import bookcave"
   ]
  },
  {
   "cell_type": "code",
   "execution_count": null,
   "metadata": {},
   "outputs": [],
   "source": [
    "def plot_history(model_name, stamp):\n",
    "    # Collect history data.\n",
    "    history = dict()\n",
    "    with open(os.path.join(folders.HISTORY_PATH, model_name, '{:d}.txt'.format(stamp)), 'r') as fd:\n",
    "        for line in fd:\n",
    "            parts = line.split()\n",
    "            key = parts[0]\n",
    "            values = np.asarray(parts[1:], dtype=np.float32)\n",
    "            history[key] = values\n",
    "    \n",
    "    # Divide into categories.\n",
    "    categories = [category for category in bookcave.CATEGORIES if '{}_loss'.format(category) in history]\n",
    "    \n",
    "    # Plot.\n",
    "    figure, axes = plt.subplots(nrows=len(categories), ncols=2, figsize=(1*len(categories), 18))\n",
    "    for category_i, category in enumerate(categories):\n",
    "        axes[category_i][0].plot(history['{}_loss'.format(category)], color='red', label='loss')\n",
    "        axes[category_i][0].plot(history['val_{}_loss'.format(category)], color='blue', label='val_loss')\n",
    "        axes[category_i][0].legend()\n",
    "        axes[category_i][0].set_title(category)\n",
    "        axes[category_i][0].set_ylabel('Loss')\n",
    "        axes[category_i][0].set_xlabel('Epochs')\n",
    "        axes[category_i][1].plot(history['{}_binary_accuracy'.format(category)], color='orange', label='accuracy')\n",
    "        axes[category_i][1].plot(history['val_{}_binary_accuracy'.format(category)], color='green', label='val_accuracy')\n",
    "        axes[category_i][1].legend()\n",
    "        axes[category_i][1].set_title(category)\n",
    "        axes[category_i][1].set_ylabel('Accuracy')\n",
    "        axes[category_i][1].set_xlabel('Epochs')\n",
    "    figure.tight_layout()\n",
    "    plt.show()"
   ]
  },
  {
   "cell_type": "code",
   "execution_count": null,
   "metadata": {},
   "outputs": [],
   "source": [
    "plot_history('book_net', 1566857970)"
   ]
  },
  {
   "cell_type": "code",
   "execution_count": null,
   "metadata": {},
   "outputs": [],
   "source": []
  }
 ],
 "metadata": {
  "kernelspec": {
   "display_name": "Python 3",
   "language": "python",
   "name": "python3"
  },
  "language_info": {
   "codemirror_mode": {
    "name": "ipython",
    "version": 3
   },
   "file_extension": ".py",
   "mimetype": "text/x-python",
   "name": "python",
   "nbconvert_exporter": "python",
   "pygments_lexer": "ipython3",
   "version": "3.6.8"
  }
 },
 "nbformat": 4,
 "nbformat_minor": 2
}
