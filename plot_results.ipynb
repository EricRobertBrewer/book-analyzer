{
 "cells": [
  {
   "cell_type": "markdown",
   "metadata": {},
   "source": [
    "# plot_results"
   ]
  },
  {
   "cell_type": "code",
   "execution_count": null,
   "metadata": {},
   "outputs": [],
   "source": [
    "import os\n",
    "\n",
    "import numpy as np\n",
    "import matplotlib.pyplot as plt\n",
    "\n",
    "import folders\n",
    "from sites.bookcave import bookcave"
   ]
  },
  {
   "cell_type": "markdown",
   "metadata": {},
   "source": [
    "## History"
   ]
  },
  {
   "cell_type": "code",
   "execution_count": null,
   "metadata": {},
   "outputs": [],
   "source": [
    "def plot_history(model_name, stamp):\n",
    "    # Collect history data.\n",
    "    history = dict()\n",
    "    with open(os.path.join(folders.HISTORY_PATH, model_name, '{:d}.txt'.format(stamp)), 'r') as fd:\n",
    "        for line in fd:\n",
    "            parts = line.split()\n",
    "            key = parts[0]\n",
    "            values = np.asarray(parts[1:], dtype=np.float32)\n",
    "            history[key] = values\n",
    "    \n",
    "    # Divide into categories.\n",
    "    categories = [category for category in bookcave.CATEGORIES if '{}_loss'.format(category) in history]\n",
    "    \n",
    "    # Plot.\n",
    "    figure, axes = plt.subplots(nrows=len(categories), ncols=2, figsize=(1*len(categories), 18))\n",
    "    for category_i, category in enumerate(categories):\n",
    "        axes[category_i][0].plot(history['{}_loss'.format(category)], color='red', label='loss')\n",
    "        axes[category_i][0].plot(history['val_{}_loss'.format(category)], color='blue', label='val_loss')\n",
    "        axes[category_i][0].legend()\n",
    "        axes[category_i][0].set_title(category)\n",
    "        axes[category_i][0].set_ylabel('Loss')\n",
    "        axes[category_i][0].set_xlabel('Epochs')\n",
    "        axes[category_i][1].plot(history['{}_binary_accuracy'.format(category)], color='orange', label='accuracy')\n",
    "        axes[category_i][1].plot(history['val_{}_binary_accuracy'.format(category)], color='green', label='val_accuracy')\n",
    "        axes[category_i][1].legend()\n",
    "        axes[category_i][1].set_title(category)\n",
    "        axes[category_i][1].set_ylabel('Accuracy')\n",
    "        axes[category_i][1].set_xlabel('Epochs')\n",
    "    figure.tight_layout()\n",
    "    plt.show()"
   ]
  },
  {
   "cell_type": "code",
   "execution_count": null,
   "metadata": {},
   "outputs": [],
   "source": [
    "os.listdir('history/')"
   ]
  },
  {
   "cell_type": "code",
   "execution_count": null,
   "metadata": {},
   "outputs": [],
   "source": [
    "sorted(os.listdir(os.path.join('history', 'book_net')))"
   ]
  },
  {
   "cell_type": "code",
   "execution_count": null,
   "metadata": {},
   "outputs": [],
   "source": [
    "plot_history('book_net', 32289449)  # leakyrelu.1-32"
   ]
  },
  {
   "cell_type": "code",
   "execution_count": null,
   "metadata": {},
   "outputs": [],
   "source": [
    "plot_history('book_net', 32307786)  # leakyrelu.1-64"
   ]
  },
  {
   "cell_type": "markdown",
   "metadata": {},
   "source": [
    "## Accuracy"
   ]
  },
  {
   "cell_type": "code",
   "execution_count": null,
   "metadata": {},
   "outputs": [],
   "source": [
    "acc_svm = [.6593, .6637, .8193, .6933, .7204, .5831, .6247, .8948]\n",
    "acc_prnn = []\n",
    "acc_bhan = []\n",
    "acc_bnet = [.6656, .6259, .7903, .6807, .6902, .5535, .5246, .8980]\n",
    "ticks = np.arange(len(bookcave.CATEGORIES))\n",
    "names = [bookcave.CATEGORY_NAMES[category] for category in bookcave.CATEGORIES]\n",
    "plt.bar(ticks - .2, acc_svm, width=.4)\n",
    "plt.bar(ticks + .2, acc_bnet, width=.4)\n",
    "plt.xticks(ticks, names, rotation=-45, ha='left')\n",
    "plt.legend(['SVM', 'BookNet'])\n",
    "plt.show()"
   ]
  },
  {
   "cell_type": "code",
   "execution_count": null,
   "metadata": {},
   "outputs": [],
   "source": []
  }
 ],
 "metadata": {
  "kernelspec": {
   "display_name": "Python 3",
   "language": "python",
   "name": "python3"
  },
  "language_info": {
   "codemirror_mode": {
    "name": "ipython",
    "version": 3
   },
   "file_extension": ".py",
   "mimetype": "text/x-python",
   "name": "python",
   "nbconvert_exporter": "python",
   "pygments_lexer": "ipython3",
   "version": "3.6.8"
  }
 },
 "nbformat": 4,
 "nbformat_minor": 2
}
