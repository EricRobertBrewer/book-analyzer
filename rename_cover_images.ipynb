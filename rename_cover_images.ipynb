{
 "cells": [
  {
   "cell_type": "markdown",
   "metadata": {},
   "source": [
    "# rename_cover_images"
   ]
  },
  {
   "cell_type": "code",
   "execution_count": null,
   "metadata": {},
   "outputs": [],
   "source": [
    "import os\n",
    "import numpy as np\n",
    "import matplotlib.pyplot as plt\n",
    "from PIL import Image\n",
    "import IPython\n",
    "import shutil\n",
    "\n",
    "import bookcave"
   ]
  },
  {
   "cell_type": "markdown",
   "metadata": {},
   "source": [
    "Get book meta data to make deciding on cover images easier."
   ]
  },
  {
   "cell_type": "code",
   "execution_count": null,
   "metadata": {},
   "outputs": [],
   "source": [
    "_, _, _, _, book_ids, books_df, _, _, _ = bookcave.get_data({'text'}, text_input='filename', return_meta=True)"
   ]
  },
  {
   "cell_type": "code",
   "execution_count": null,
   "metadata": {},
   "outputs": [],
   "source": [
    "amazon_kindle_path = os.path.join('..', 'content', 'amazon_kindle')\n",
    "folders = os.listdir(amazon_kindle_path)\n",
    "len(folders)"
   ]
  },
  {
   "cell_type": "markdown",
   "metadata": {},
   "source": [
    "Rename strangely-named images to `cover.jpg`."
   ]
  },
  {
   "cell_type": "code",
   "execution_count": null,
   "metadata": {},
   "outputs": [],
   "source": [
    "def start_rename(text_required=False, alt=None, jpg_only=True):\n",
    "    last_folder = None\n",
    "    for folder in folders:\n",
    "        folder_path = os.path.join(amazon_kindle_path, folder)\n",
    "        \n",
    "        # Check if 'cover.jpg' already exists.\n",
    "        cover_path = os.path.join(folder_path, 'cover.jpg')\n",
    "        if os.path.exists(cover_path):\n",
    "            continue\n",
    "        \n",
    "        # Conditionally check if 'text.txt' exists.\n",
    "        if text_required and not os.path.exists(os.path.join(folder_path, 'text.txt')):\n",
    "            continue\n",
    "        \n",
    "        # Conditionally check if the alternate cover image exists.\n",
    "        if alt is not None:\n",
    "            alt_path = os.path.join(folder_path, alt)\n",
    "            if os.path.exists(alt_path):\n",
    "                shutil.copy2(alt_path, cover_path)\n",
    "                continue\n",
    "\n",
    "        # Get images in the book folder.\n",
    "        image_path_sizes = []\n",
    "        fnames = os.listdir(folder_path)\n",
    "        for fname in fnames:\n",
    "            if not fname.endswith('.jpg'):\n",
    "                continue\n",
    "            path = os.path.join(folder_path, fname)\n",
    "            size = os.path.getsize(path)\n",
    "            image_path_sizes.append((path, size))\n",
    "        \n",
    "        # Skip books with no images.\n",
    "        if len(image_path_sizes) == 0:\n",
    "            continue\n",
    "            \n",
    "        # Sort images in descending order.\n",
    "        image_path_sizes.sort(key=lambda path_size: path_size[1], reverse=True)\n",
    "\n",
    "        # Get meta data for this book.\n",
    "        book_rows = books_df[books_df['asin'].str.match(folder)]\n",
    "        \n",
    "        for i, (path, size) in enumerate(image_path_sizes):\n",
    "            # Clear any previous output in this cell.\n",
    "            IPython.display.clear_output(wait=True)\n",
    "            \n",
    "            # Print last folder.\n",
    "            if last_folder is not None:\n",
    "                print('last folder={}\\n'.format(last_folder))\n",
    "\n",
    "            # Display the candidate image.\n",
    "            image = Image.open(path)\n",
    "            plt.imshow(image)\n",
    "            plt.show()\n",
    "            \n",
    "            # Ask if it is a cover image.\n",
    "            for _, book_row in book_rows.iterrows():\n",
    "                print('Title: {}'.format(book_row['title']))\n",
    "                print('Authors: {}'.format(book_row['authors']))\n",
    "            print('Path: {} ({:d} of {:d})'.format(path, i + 1, len(image_path_sizes)))\n",
    "            print('Size: {}'.format(image.size))\n",
    "            print('Bytes: {:d}'.format(size))\n",
    "            print('Cover? [y]/n')\n",
    "            answer = input()\n",
    "            if answer == '' or answer == 'y' or answer =='Y':\n",
    "                shutil.copy2(path, cover_path)\n",
    "                break\n",
    "        \n",
    "        # Keep track of last folder, in case a mistake was made.\n",
    "        last_folder = folder"
   ]
  },
  {
   "cell_type": "code",
   "execution_count": null,
   "metadata": {},
   "outputs": [],
   "source": [
    "start_rename(text_required=True, alt='0.jpg')"
   ]
  },
  {
   "cell_type": "code",
   "execution_count": null,
   "metadata": {},
   "outputs": [],
   "source": []
  }
 ],
 "metadata": {
  "kernelspec": {
   "display_name": "Python 3",
   "language": "python",
   "name": "python3"
  },
  "language_info": {
   "codemirror_mode": {
    "name": "ipython",
    "version": 3
   },
   "file_extension": ".py",
   "mimetype": "text/x-python",
   "name": "python",
   "nbconvert_exporter": "python",
   "pygments_lexer": "ipython3",
   "version": "3.6.8"
  }
 },
 "nbformat": 4,
 "nbformat_minor": 2
}
