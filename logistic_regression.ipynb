{
 "cells": [
  {
   "cell_type": "code",
   "execution_count": null,
   "metadata": {},
   "outputs": [],
   "source": [
    "import os\n",
    "\n",
    "from matplotlib import pyplot as plt\n",
    "import numpy as np\n",
    "from sklearn.linear_model import LinearRegression, LogisticRegression"
   ]
  },
  {
   "cell_type": "code",
   "execution_count": null,
   "metadata": {},
   "outputs": [],
   "source": [
    "np.random.seed(1)\n",
    "x_0 = np.random.normal(1, .5, 40)\n",
    "x_1 = np.random.normal(2, .5, 10)\n",
    "y_0 = np.zeros(len(x_0))\n",
    "y_1 = np.ones(len(x_1))\n",
    "\n",
    "plt.scatter(x_0, y_0, marker='o')\n",
    "plt.scatter(x_1, y_1, marker='x')\n",
    "plt.show()"
   ]
  },
  {
   "cell_type": "code",
   "execution_count": null,
   "metadata": {},
   "outputs": [],
   "source": [
    "x = np.concatenate([x_0, x_1])\n",
    "y = np.concatenate([y_0, y_1])"
   ]
  },
  {
   "cell_type": "code",
   "execution_count": null,
   "metadata": {},
   "outputs": [],
   "source": [
    "linear = LinearRegression()\n",
    "linear.fit(x[:, np.newaxis], y)\n",
    "\n",
    "x_cont = np.arange(.25, 3.3, .01)\n",
    "y_linear = linear.predict(x_cont[:, np.newaxis])\n",
    "\n",
    "plt.scatter(x_0, y_0, marker='o')\n",
    "plt.scatter(x_1, y_1, marker='x')\n",
    "plt.plot(x_cont, y_linear, color='green')\n",
    "plt.axhline(.5, color='red', linewidth='0.5')\n",
    "plt.title('Classification Using A Linear Model')\n",
    "plt.text(0, 0.48, 'threshold = 0.5', alpha=0.75, color='red', verticalalignment='top')\n",
    "plt.ylabel('Probability of Event Occurring')\n",
    "plt.savefig(os.path.join('figures', 'methodology_linear_regression'), bbox_inches='tight')\n",
    "plt.show()"
   ]
  },
  {
   "cell_type": "code",
   "execution_count": null,
   "metadata": {},
   "outputs": [],
   "source": [
    "logistic = LogisticRegression(random_state=1, solver='lbfgs')\n",
    "logistic.fit(x[:, np.newaxis], y)\n",
    "\n",
    "x_sig = np.arange(-.2, 3.3, .01)\n",
    "y_logistic = logistic.predict_proba(x_sig[:, np.newaxis])[:, 1]\n",
    "\n",
    "plt.scatter(x_0, y_0, marker='o')\n",
    "plt.scatter(x_1, y_1, marker='x')\n",
    "plt.plot(x_sig, y_logistic, color='purple')\n",
    "plt.axhline(.5, color='red', linewidth='0.5')\n",
    "plt.text(0, 0.48, 'threshold = 0.5', alpha=0.75, color='red', verticalalignment='top')\n",
    "plt.title('Classification Using A Logistic Model')\n",
    "plt.ylabel('Probability of Event Occurring')\n",
    "plt.savefig(os.path.join('figures', 'methodology_logistic_regression'), bbox_inches='tight')\n",
    "plt.show()"
   ]
  },
  {
   "cell_type": "code",
   "execution_count": null,
   "metadata": {},
   "outputs": [],
   "source": [
    "acc_linear = sklearn.metrics.accuracy_score(linear.predict(x[:, np.newaxis]) > .5, y)\n",
    "acc_logistic = sklearn.metrics.accuracy_score(logistic.predict(x[:, np.newaxis]), y)\n",
    "acc_linear, acc_logistic"
   ]
  },
  {
   "cell_type": "code",
   "execution_count": null,
   "metadata": {},
   "outputs": [],
   "source": []
  }
 ],
 "metadata": {
  "kernelspec": {
   "display_name": "Python 3",
   "language": "python",
   "name": "python3"
  },
  "language_info": {
   "codemirror_mode": {
    "name": "ipython",
    "version": 3
   },
   "file_extension": ".py",
   "mimetype": "text/x-python",
   "name": "python",
   "nbconvert_exporter": "python",
   "pygments_lexer": "ipython3",
   "version": "3.6.8"
  }
 },
 "nbformat": 4,
 "nbformat_minor": 2
}
