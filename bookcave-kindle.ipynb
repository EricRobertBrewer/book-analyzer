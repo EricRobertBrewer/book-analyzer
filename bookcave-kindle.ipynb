{
 "cells": [
  {
   "cell_type": "markdown",
   "metadata": {
    "colab_type": "text",
    "id": "ZXO03k1LUrKH"
   },
   "source": [
    "# BookCave\n",
    "\n",
    "[General FAQ](https://mybookcave.com/reader-faq/)\n",
    "\n",
    "[BookCave rating system](https://mybookcave.com/reader-faq/what-makes-a-book-earn-a-particular-content-rating/)"
   ]
  },
  {
   "cell_type": "markdown",
   "metadata": {
    "colab_type": "text",
    "id": "ojsPvSnfUOR1"
   },
   "source": [
    "## Setup"
   ]
  },
  {
   "cell_type": "code",
   "execution_count": null,
   "metadata": {
    "colab": {
     "base_uri": "https://localhost:8080/",
     "height": 34
    },
    "colab_type": "code",
    "id": "p1eCFnrtUrKJ",
    "outputId": "bafaad85-1546-47bf-8d86-a28a1c28babc"
   },
   "outputs": [],
   "source": [
    "# Data manipulation.\n",
    "import sqlite3\n",
    "import pandas as pd\n",
    "# File I/O.\n",
    "import os\n",
    "import sys\n",
    "# Math.\n",
    "import numpy as np\n",
    "# Time management.\n",
    "import tqdm\n",
    "# Visualization.\n",
    "import matplotlib.pyplot as plt"
   ]
  },
  {
   "cell_type": "markdown",
   "metadata": {},
   "source": [
    "Declare file path constants."
   ]
  },
  {
   "cell_type": "code",
   "execution_count": null,
   "metadata": {},
   "outputs": [],
   "source": [
    "CONTENT_ROOT = os.path.join('..', 'content')\n",
    "BOOKCAVE_ROOT = os.path.join(CONTENT_ROOT, 'bookcave')\n",
    "BOOKCAVE_AMAZON_KINDLE_ROOT = os.path.join(CONTENT_ROOT, 'bookcave_amazon_kindle')\n",
    "FIGURES_ROOT = os.path.join('..', 'figures')\n",
    "try:\n",
    "    os.mkdir(FIGURES_ROOT)\n",
    "except FileExistsError:\n",
    "    pass"
   ]
  },
  {
   "cell_type": "markdown",
   "metadata": {},
   "source": [
    "Plot stuff later."
   ]
  },
  {
   "cell_type": "code",
   "execution_count": null,
   "metadata": {},
   "outputs": [],
   "source": [
    "def autolabel(ax, bars, text_color):\n",
    "    heights = [bar.get_height() for bar in bars]\n",
    "    max_height = max(heights)\n",
    "    for i, bar in enumerate(bars):\n",
    "        height = heights[i]\n",
    "        is_max = height == max_height\n",
    "        ax.text(bar.get_x() + bar.get_width()/2.,\n",
    "                height - .05 * max_height if is_max else height + .05 * max_height,\n",
    "                '{}'.format(int(height)),\n",
    "                ha='center',\n",
    "                va='top' if is_max else 'bottom',\n",
    "                color=text_color if is_max else 'k')\n",
    "\n",
    "\n",
    "def plot_label_distribution(x, labels, title, ylabel, color, text_color, save=None):\n",
    "    bincount = np.bincount(labels)\n",
    "    fig, ax = plt.subplots()\n",
    "    bars = ax.bar(x, bincount, color=color)\n",
    "    ax.set_title(title)\n",
    "    ax.set_ylabel(ylabel)\n",
    "    ax.set_xticklabels(x, rotation=45, ha='right')\n",
    "    autolabel(ax, bars, text_color)\n",
    "    if save:\n",
    "        plt.savefig(save, bbox_inches='tight')\n",
    "    plt.show()\n",
    "\n",
    "\n",
    "def print_label_distribution(x, labels):\n",
    "    longest_name = max(len(name) for name in x)\n",
    "    bincount = np.bincount(labels)\n",
    "    for index, name in enumerate(x):\n",
    "        spaces = ' ' * (longest_name - len(name))\n",
    "        p = bincount[index]/len(labels)\n",
    "        tens_digit_space = ' ' if p < .1 else ''\n",
    "        print('{}`{}`: {}{:.3%}'.format(spaces, name, tens_digit_space, p))"
   ]
  },
  {
   "cell_type": "markdown",
   "metadata": {},
   "source": [
    "Pull all of the data from the BookCave database."
   ]
  },
  {
   "cell_type": "code",
   "execution_count": null,
   "metadata": {
    "colab": {},
    "colab_type": "code",
    "id": "S1r_1jfKUrKN"
   },
   "outputs": [],
   "source": [
    "conn = sqlite3.connect(os.path.join(BOOKCAVE_ROOT, 'contents.db'))\n",
    "all_books_df = pd.read_sql_query('SELECT * FROM Books;', conn)\n",
    "ratings_df = pd.read_sql_query('SELECT * FROM BookRatings;', conn)\n",
    "levels_df = pd.read_sql_query('SELECT * FROM BookRatingLevels;', conn)\n",
    "conn.close()"
   ]
  },
  {
   "cell_type": "markdown",
   "metadata": {
    "colab_type": "text",
    "id": "oCrhLHgtUrKP"
   },
   "source": [
    "### Books"
   ]
  },
  {
   "cell_type": "markdown",
   "metadata": {
    "colab": {
     "base_uri": "https://localhost:8080/",
     "height": 34
    },
    "colab_type": "code",
    "id": "FP9josNBUrKR",
    "outputId": "f75d63a3-007b-4ed9-cdd4-7238305cb045"
   },
   "source": [
    "Count the total number of books in the database."
   ]
  },
  {
   "cell_type": "code",
   "execution_count": null,
   "metadata": {
    "colab": {
     "base_uri": "https://localhost:8080/",
     "height": 34
    },
    "colab_type": "code",
    "id": "FP9josNBUrKR",
    "outputId": "f75d63a3-007b-4ed9-cdd4-7238305cb045"
   },
   "outputs": [],
   "source": [
    "len(all_books_df)"
   ]
  },
  {
   "cell_type": "markdown",
   "metadata": {},
   "source": [
    "Consider only books which have at least one rating."
   ]
  },
  {
   "cell_type": "code",
   "execution_count": null,
   "metadata": {},
   "outputs": [],
   "source": [
    "rated_books_df = all_books_df[all_books_df['community_ratings_count'] > 0]\n",
    "len(rated_books_df)"
   ]
  },
  {
   "cell_type": "markdown",
   "metadata": {
    "colab": {
     "base_uri": "https://localhost:8080/",
     "height": 434
    },
    "colab_type": "code",
    "id": "ZlQzsaCNUrKV",
    "outputId": "264dd351-0e20-4be9-825e-9d486c15ab72"
   },
   "source": [
    "See some samples of book data."
   ]
  },
  {
   "cell_type": "code",
   "execution_count": null,
   "metadata": {
    "colab": {
     "base_uri": "https://localhost:8080/",
     "height": 434
    },
    "colab_type": "code",
    "id": "ZlQzsaCNUrKV",
    "outputId": "264dd351-0e20-4be9-825e-9d486c15ab72"
   },
   "outputs": [],
   "source": [
    "rated_books_df.head(3)"
   ]
  },
  {
   "cell_type": "markdown",
   "metadata": {
    "colab": {
     "base_uri": "https://localhost:8080/",
     "height": 374
    },
    "colab_type": "code",
    "id": "YoVTEMvzUrKY",
    "outputId": "815658a5-c1cd-41a0-fe2e-b95fce160e8e"
   },
   "source": [
    "View the distribution of vendors who offer each book."
   ]
  },
  {
   "cell_type": "code",
   "execution_count": null,
   "metadata": {
    "colab": {
     "base_uri": "https://localhost:8080/",
     "height": 374
    },
    "colab_type": "code",
    "id": "YoVTEMvzUrKY",
    "outputId": "815658a5-c1cd-41a0-fe2e-b95fce160e8e"
   },
   "outputs": [],
   "source": [
    "rated_books_df.count()"
   ]
  },
  {
   "cell_type": "markdown",
   "metadata": {},
   "source": [
    "Plot distribution of overall (average) ratings for books."
   ]
  },
  {
   "cell_type": "code",
   "execution_count": null,
   "metadata": {},
   "outputs": [],
   "source": [
    "ratings = ['All Ages', 'Mild', 'Mild+', 'Moderate', 'Moderate+', 'Adult', 'Adult+']\n",
    "rating_to_index = {rating: i for i, rating in enumerate(ratings)}\n",
    "rating_colors = ['royalblue', 'mediumseagreen', 'darkseagreen', 'yellowgreen', 'yellow', 'orange', 'orangered']\n",
    "# rating_text_colors = ['w', 'w', 'k', 'k', 'k', 'k', 'w']\n",
    "\n",
    "\n",
    "def plot_and_print_average_ratings_distribution(books_df):\n",
    "    average_ratings = books_df['community_average_rating']\n",
    "    labels = [rating_to_index[rating] for rating in average_ratings]\n",
    "    title = 'Average Ratings'\n",
    "    ylabel = '# of books'\n",
    "    color = rating_colors\n",
    "    text_color = 'k'\n",
    "    plot_label_distribution(ratings, labels, title, ylabel, color, text_color)\n",
    "    print_label_distribution(ratings, labels)"
   ]
  },
  {
   "cell_type": "code",
   "execution_count": null,
   "metadata": {},
   "outputs": [],
   "source": [
    "plot_and_print_average_ratings_distribution(rated_books_df)"
   ]
  },
  {
   "cell_type": "markdown",
   "metadata": {},
   "source": [
    "Calculate percentage of books whose previews are offered by Amazon."
   ]
  },
  {
   "cell_type": "code",
   "execution_count": null,
   "metadata": {
    "colab": {
     "base_uri": "https://localhost:8080/",
     "height": 34
    },
    "colab_type": "code",
    "id": "58zKxRVoUrKb",
    "outputId": "8b1b42ec-f46f-4994-ca1d-9c9da84a0980"
   },
   "outputs": [],
   "source": [
    "num_kindle = len(rated_books_df[rated_books_df['amazon_kindle_url'].notnull()])\n",
    "'{:.3%} of rated books ({:d}/{:d}) are available on Amazon Kindle.'.format(num_kindle / len(rated_books_df), num_kindle, len(rated_books_df))"
   ]
  },
  {
   "cell_type": "markdown",
   "metadata": {
    "colab_type": "text",
    "id": "8m258fmUUrKj"
   },
   "source": [
    "### Ratings"
   ]
  },
  {
   "cell_type": "markdown",
   "metadata": {},
   "source": [
    "Count the total number of ratings for books."
   ]
  },
  {
   "cell_type": "code",
   "execution_count": null,
   "metadata": {
    "colab": {
     "base_uri": "https://localhost:8080/",
     "height": 34
    },
    "colab_type": "code",
    "id": "x-AJfgfGUrKl",
    "outputId": "ea8a2193-8e9a-45c7-9b53-4dd52d315190"
   },
   "outputs": [],
   "source": [
    "len(ratings_df)"
   ]
  },
  {
   "cell_type": "markdown",
   "metadata": {},
   "source": [
    "See some examples of ratings data."
   ]
  },
  {
   "cell_type": "code",
   "execution_count": null,
   "metadata": {
    "colab": {
     "base_uri": "https://localhost:8080/",
     "height": 204
    },
    "colab_type": "code",
    "id": "RjnYWojIUrKn",
    "outputId": "e4121cf0-c2fe-4ef7-aa43-f149232214f4"
   },
   "outputs": [],
   "source": [
    "ratings_df.head()"
   ]
  },
  {
   "cell_type": "markdown",
   "metadata": {
    "colab_type": "text",
    "id": "1e284j8_UrKv"
   },
   "source": [
    "### (Rating) Levels"
   ]
  },
  {
   "cell_type": "markdown",
   "metadata": {},
   "source": [
    "Count the total number of rating levels (which belong to categories) given to books."
   ]
  },
  {
   "cell_type": "code",
   "execution_count": null,
   "metadata": {
    "colab": {
     "base_uri": "https://localhost:8080/",
     "height": 34
    },
    "colab_type": "code",
    "id": "0xIj6ClEUrKw",
    "outputId": "c5364ed7-4032-4bc8-884b-9e8d4b3bb49d"
   },
   "outputs": [],
   "source": [
    "len(levels_df)"
   ]
  },
  {
   "cell_type": "markdown",
   "metadata": {},
   "source": [
    "See some examples of rating levels."
   ]
  },
  {
   "cell_type": "code",
   "execution_count": null,
   "metadata": {
    "colab": {
     "base_uri": "https://localhost:8080/",
     "height": 204
    },
    "colab_type": "code",
    "id": "EcVK_MyVUrKz",
    "outputId": "f0139d4c-c325-4dcf-95a8-6fa912834871"
   },
   "outputs": [],
   "source": [
    "levels_df.head()"
   ]
  },
  {
   "cell_type": "markdown",
   "metadata": {
    "colab": {
     "base_uri": "https://localhost:8080/",
     "height": 34
    },
    "colab_type": "code",
    "id": "PcfrP30-UrK1",
    "outputId": "deed0534-caa1-4d70-e6c5-2b390cc7e68b"
   },
   "source": [
    "Check for invalid rows."
   ]
  },
  {
   "cell_type": "code",
   "execution_count": null,
   "metadata": {
    "colab": {
     "base_uri": "https://localhost:8080/",
     "height": 34
    },
    "colab_type": "code",
    "id": "PcfrP30-UrK1",
    "outputId": "deed0534-caa1-4d70-e6c5-2b390cc7e68b"
   },
   "outputs": [],
   "source": [
    "len(levels_df[levels_df['count'].isnull()])"
   ]
  },
  {
   "cell_type": "markdown",
   "metadata": {},
   "source": [
    "### Categories"
   ]
  },
  {
   "cell_type": "markdown",
   "metadata": {},
   "source": [
    "Many levels are mutually exclusive for a particular book. They are grouped into content 'categories'."
   ]
  },
  {
   "cell_type": "code",
   "execution_count": null,
   "metadata": {},
   "outputs": [],
   "source": [
    "categories_df = pd.read_csv(os.path.join(CONTENT_ROOT, 'bookcave', 'categories.tsv'), sep='\\t')\n",
    "len(categories_df)"
   ]
  },
  {
   "cell_type": "markdown",
   "metadata": {},
   "source": [
    "See examples of categorized rating levels."
   ]
  },
  {
   "cell_type": "code",
   "execution_count": null,
   "metadata": {},
   "outputs": [],
   "source": [
    "categories_df.head(9)"
   ]
  },
  {
   "cell_type": "markdown",
   "metadata": {},
   "source": [
    "Get the list of unique category names."
   ]
  },
  {
   "cell_type": "code",
   "execution_count": null,
   "metadata": {},
   "outputs": [],
   "source": [
    "categories = list(categories_df['category'].unique())\n",
    "categories"
   ]
  },
  {
   "cell_type": "markdown",
   "metadata": {},
   "source": [
    "Create index maps of categories and levels to speed up operations later."
   ]
  },
  {
   "cell_type": "code",
   "execution_count": null,
   "metadata": {},
   "outputs": [],
   "source": [
    "# Map category names to their indices.\n",
    "category_to_index = dict()\n",
    "# Map level names to their indices.\n",
    "level_to_index = dict()\n",
    "for i, category in enumerate(categories):\n",
    "    category_to_index[category] = i\n",
    "    category_rows = categories_df[categories_df['category'].str.match(category)]\n",
    "    category_levels = category_rows['level']\n",
    "    category_level_to_index = {name: j for j, name in enumerate(category_levels)}\n",
    "    level_to_index.update(category_level_to_index)"
   ]
  },
  {
   "cell_type": "code",
   "execution_count": null,
   "metadata": {},
   "outputs": [],
   "source": [
    "# Map each level to its category index.\n",
    "level_to_category_index = dict()\n",
    "# Enumerate the level names per category.\n",
    "levels = [['None'] for _ in range(len(categories))]\n",
    "for _, category_row in categories_df.iterrows():\n",
    "    level = category_row['level']\n",
    "    if level == 'None':\n",
    "        continue\n",
    "    level_to_category_index[level] = category_to_index[category_row['category']]\n",
    "    category_index = level_to_category_index[level]\n",
    "    levels[category_index].append(level)"
   ]
  },
  {
   "cell_type": "markdown",
   "metadata": {
    "colab_type": "text",
    "id": "VDQ_57oFUrLI"
   },
   "source": [
    "## Features"
   ]
  },
  {
   "cell_type": "markdown",
   "metadata": {},
   "source": [
    "### Text"
   ]
  },
  {
   "cell_type": "markdown",
   "metadata": {},
   "source": [
    "Count how many Amazon Kindle texts have been attempted to be collected."
   ]
  },
  {
   "cell_type": "code",
   "execution_count": null,
   "metadata": {},
   "outputs": [],
   "source": [
    "text_book_ids = os.listdir(BOOKCAVE_AMAZON_KINDLE_ROOT)\n",
    "len(text_book_ids), text_book_ids[42]"
   ]
  },
  {
   "cell_type": "markdown",
   "metadata": {},
   "source": [
    "Extract raw Kindle text contents."
   ]
  },
  {
   "cell_type": "code",
   "execution_count": null,
   "metadata": {},
   "outputs": [],
   "source": [
    "book_id_to_text = dict()\n",
    "pbar = tqdm.tqdm(total=len(text_book_ids), position=0)\n",
    "for text_book_id in text_book_ids:\n",
    "    pbar.update(1)\n",
    "    if sys.platform == 'win32':\n",
    "        # One book folder is named:\n",
    "        # `diy-body-care-the-complete-body-care-guide-for-beginners-with-over-37-recipes-for-homemade-body-butters-body-scrubs-lotions-lip-balms-and-shampoos-body-care-essential-oils-organic-lotions`.\n",
    "        # To overcome a `FileNotFoundError` for this file, use an extended-length path on Windows.\n",
    "        # See `https://stackoverflow.com/questions/36219317/pathname-too-long-to-open/36219497`.\n",
    "        path = u'\\\\\\\\?\\\\' + os.path.abspath(os.path.join(BOOKCAVE_AMAZON_KINDLE_ROOT, text_book_id, 'text.txt'))\n",
    "    #elif sys.platform == 'darwin':\n",
    "    else:\n",
    "        path = os.path.join(BOOKCAVE_AMAZON_KINDLE_ROOT, text_book_id, 'text.txt')\n",
    "    try:\n",
    "        with open(path, 'r', encoding='utf-8') as fd:\n",
    "            contents = fd.read()\n",
    "        book_id_to_text[text_book_id] = contents\n",
    "    except FileNotFoundError:\n",
    "        pass\n",
    "    except NotADirectoryError:\n",
    "        pass\n",
    "pbar.close()\n",
    "len(book_id_to_text)"
   ]
  },
  {
   "cell_type": "markdown",
   "metadata": {},
   "source": [
    "See a small exerpt of a Kindle text."
   ]
  },
  {
   "cell_type": "code",
   "execution_count": null,
   "metadata": {},
   "outputs": [],
   "source": [
    "book_id_to_text['gate-76'][:100]"
   ]
  },
  {
   "cell_type": "markdown",
   "metadata": {},
   "source": [
    "Count how many Kindle texts exist for books with at least one rating."
   ]
  },
  {
   "cell_type": "code",
   "execution_count": null,
   "metadata": {},
   "outputs": [],
   "source": [
    "books_df = rated_books_df[rated_books_df['id'].isin(book_id_to_text)]\n",
    "len(books_df)"
   ]
  },
  {
   "cell_type": "code",
   "execution_count": null,
   "metadata": {},
   "outputs": [],
   "source": [
    "plot_and_print_average_ratings_distribution(books_df)"
   ]
  },
  {
   "cell_type": "markdown",
   "metadata": {
    "colab": {
     "base_uri": "https://localhost:8080/",
     "height": 34
    },
    "colab_type": "code",
    "id": "1GPhxv8zUrKf",
    "outputId": "b14338b7-f4a4-4569-c79d-a638149192d3"
   },
   "source": [
    "Map book IDs to indices."
   ]
  },
  {
   "cell_type": "code",
   "execution_count": null,
   "metadata": {},
   "outputs": [],
   "source": [
    "book_to_index = {book_id: i for i, book_id in enumerate(books_df['id'])}"
   ]
  },
  {
   "cell_type": "markdown",
   "metadata": {},
   "source": [
    "Likewise, create a fancy-indexable array of book IDs."
   ]
  },
  {
   "cell_type": "code",
   "execution_count": null,
   "metadata": {},
   "outputs": [],
   "source": [
    "book_ids = np.array(sorted([book_row['id'] for _, book_row in books_df.iterrows()]))"
   ]
  },
  {
   "cell_type": "markdown",
   "metadata": {},
   "source": [
    "What does the file-length distribution look like?"
   ]
  },
  {
   "cell_type": "code",
   "execution_count": null,
   "metadata": {},
   "outputs": [],
   "source": [
    "raw_text_lengths = [len(book_id_to_text[book_id]) for book_id in book_ids]\n",
    "n, bins, patches = plt.hist(raw_text_lengths, 60, density=True)\n",
    "plt.show()"
   ]
  },
  {
   "cell_type": "markdown",
   "metadata": {},
   "source": [
    "View book titles with little text."
   ]
  },
  {
   "cell_type": "code",
   "execution_count": null,
   "metadata": {},
   "outputs": [],
   "source": [
    "[book_id for book_id in book_ids if len(book_id_to_text[book_id]) <= 15000]"
   ]
  },
  {
   "cell_type": "markdown",
   "metadata": {
    "colab_type": "text",
    "id": "xBqys65XU6YN"
   },
   "source": [
    "### Labels"
   ]
  },
  {
   "cell_type": "markdown",
   "metadata": {},
   "source": [
    "For each category, calculate the average rating for each book."
   ]
  },
  {
   "cell_type": "code",
   "execution_count": null,
   "metadata": {},
   "outputs": [],
   "source": [
    "y_cont = np.zeros((len(books_df), len(categories)))\n",
    "# Add all levels together for each book.\n",
    "print('Adding...')\n",
    "for _, level_row in levels_df.iterrows():\n",
    "    book_id = level_row['book_id']\n",
    "    # Skip books which have a rating (and rating levels), but no preview text.\n",
    "    if book_id not in book_to_index:\n",
    "        continue\n",
    "    # Add this rating level to its category for this book.\n",
    "    book_index = book_to_index[book_id]\n",
    "    category_index = level_to_category_index[level_row['title']]\n",
    "    level_index = level_to_index[level_row['title']]\n",
    "    y_cont[book_index, category_index] += level_index * level_row['count']\n",
    "# Calculate the average level for each book by dividing by the number of ratings for that book.\n",
    "print('Averaging...')\n",
    "for _, book_row in books_df.iterrows():\n",
    "    book_id = book_row['id']\n",
    "    book_index = book_to_index[book_id]\n",
    "    y_cont[book_index] /= book_row['community_ratings_count']\n",
    "print('Done!')\n",
    "y_cont.shape"
   ]
  },
  {
   "cell_type": "markdown",
   "metadata": {
    "colab": {
     "base_uri": "https://localhost:8080/",
     "height": 545
    },
    "colab_type": "code",
    "id": "JNxFRFb5UrLL",
    "outputId": "abf1347e-18a1-434e-c118-83685bebc278"
   },
   "source": [
    "See an example of book rating levels."
   ]
  },
  {
   "cell_type": "code",
   "execution_count": null,
   "metadata": {
    "colab": {
     "base_uri": "https://localhost:8080/",
     "height": 545
    },
    "colab_type": "code",
    "id": "JNxFRFb5UrLL",
    "outputId": "abf1347e-18a1-434e-c118-83685bebc278"
   },
   "outputs": [],
   "source": [
    "levels_df[levels_df['book_id'] == 'gate-76']"
   ]
  },
  {
   "cell_type": "markdown",
   "metadata": {
    "colab": {
     "base_uri": "https://localhost:8080/",
     "height": 68
    },
    "colab_type": "code",
    "id": "XGGO3XGaUrLO",
    "outputId": "8318f9a5-4a3d-4fe2-dc62-0e8f99f886cb"
   },
   "source": [
    "See how these rating levels are now represented as a vector of average rating levels per category."
   ]
  },
  {
   "cell_type": "code",
   "execution_count": null,
   "metadata": {
    "colab": {
     "base_uri": "https://localhost:8080/",
     "height": 68
    },
    "colab_type": "code",
    "id": "XGGO3XGaUrLO",
    "outputId": "8318f9a5-4a3d-4fe2-dc62-0e8f99f886cb"
   },
   "outputs": [],
   "source": [
    "y_cont[book_to_index['gate-76']]"
   ]
  },
  {
   "cell_type": "markdown",
   "metadata": {},
   "source": [
    "Since false negatives are less desirable than false positives, implement somewhat of a \"harsh critic\" by taking the ceiling of the average ratings."
   ]
  },
  {
   "cell_type": "code",
   "execution_count": null,
   "metadata": {},
   "outputs": [],
   "source": [
    "y = np.ceil(y_cont).astype(np.int32)\n",
    "y[book_to_index['gate-76']]"
   ]
  },
  {
   "cell_type": "markdown",
   "metadata": {},
   "source": [
    "Plot the label distribution for each category."
   ]
  },
  {
   "cell_type": "code",
   "execution_count": null,
   "metadata": {},
   "outputs": [],
   "source": [
    "category_colors = ['blue', 'green', 'pink', 'cyan', 'magenta', 'yellow', 'orange', 'red']\n",
    "category_text_colors = ['w', 'w', 'k', 'k', 'k', 'k', 'k', 'w']\n",
    "\n",
    "        \n",
    "def plot_and_print_label_distributions():\n",
    "    for category_index, category in enumerate(categories):\n",
    "        x = levels[category_index]\n",
    "        labels = y[:, category_index]\n",
    "        title = category\n",
    "        ylabel = '# of occurrences'\n",
    "        color = category_colors[category_index]\n",
    "        text_color = category_text_colors[category_index]\n",
    "        save = os.path.join(FIGURES_ROOT, 'kindle_label_dist_{}_{}.png'.format(category_index + 1, category))\n",
    "        plot_label_distribution(x, labels, title, ylabel, color, text_color, save=save)\n",
    "        print_label_distributions(x, labels)"
   ]
  },
  {
   "cell_type": "code",
   "execution_count": null,
   "metadata": {},
   "outputs": [],
   "source": [
    "plot_and_print_label_distributions()"
   ]
  },
  {
   "cell_type": "code",
   "execution_count": null,
   "metadata": {},
   "outputs": [],
   "source": []
  }
 ],
 "metadata": {
  "colab": {
   "name": "bookcave.ipynb",
   "provenance": [],
   "toc_visible": true,
   "version": "0.3.2"
  },
  "kernelspec": {
   "display_name": "Python 3",
   "language": "python",
   "name": "python3"
  },
  "language_info": {
   "codemirror_mode": {
    "name": "ipython",
    "version": 3
   },
   "file_extension": ".py",
   "mimetype": "text/x-python",
   "name": "python",
   "nbconvert_exporter": "python",
   "pygments_lexer": "ipython3",
   "version": "3.6.5"
  }
 },
 "nbformat": 4,
 "nbformat_minor": 1
}
