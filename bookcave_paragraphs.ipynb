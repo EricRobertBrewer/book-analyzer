{
 "cells": [
  {
   "cell_type": "markdown",
   "metadata": {},
   "source": [
    "# bookcave_paragraphs"
   ]
  },
  {
   "cell_type": "markdown",
   "metadata": {},
   "source": [
    "## Set Up"
   ]
  },
  {
   "cell_type": "code",
   "execution_count": null,
   "metadata": {},
   "outputs": [],
   "source": [
    "import os\n",
    "import operator\n",
    "\n",
    "import matplotlib.pyplot as plt\n",
    "import numpy as np\n",
    "\n",
    "import folders\n",
    "from sites.bookcave import bookcave"
   ]
  },
  {
   "cell_type": "code",
   "execution_count": null,
   "metadata": {},
   "outputs": [],
   "source": [
    "def get_top_indices(a, n):\n",
    "    top_indices = np.argpartition(a, -n)[-n:]\n",
    "    return top_indices[np.argsort(a[top_indices])]\n",
    "\n",
    "def get_bottom_indices(a, n):\n",
    "    bottom_indices = np.argpartition(a, n)[:n]\n",
    "    return bottom_indices[np.argsort(a[bottom_indices])]"
   ]
  },
  {
   "cell_type": "markdown",
   "metadata": {},
   "source": [
    "## Features"
   ]
  },
  {
   "cell_type": "markdown",
   "metadata": {},
   "source": [
    "Read all of the paragraph files."
   ]
  },
  {
   "cell_type": "code",
   "execution_count": null,
   "metadata": {},
   "outputs": [],
   "source": [
    "inputs, _, _, _, book_ids, books_df, _, _, _ = \\\n",
    "    bookcave.get_data({'paragraphs', 'paragraph_tokens'},\n",
    "                      return_meta=True)\n",
    "paragraph_inputs = inputs['paragraphs']\n",
    "token_inputs = inputs['paragraph_tokens']"
   ]
  },
  {
   "cell_type": "markdown",
   "metadata": {},
   "source": [
    "### Paragraphs"
   ]
  },
  {
   "cell_type": "code",
   "execution_count": null,
   "metadata": {},
   "outputs": [],
   "source": [
    "text_paragraphs, text_section_ids, text_sections = zip(*paragraph_inputs)\n",
    "len(text_paragraphs)"
   ]
  },
  {
   "cell_type": "markdown",
   "metadata": {},
   "source": [
    "See a sample of text."
   ]
  },
  {
   "cell_type": "code",
   "execution_count": null,
   "metadata": {},
   "outputs": [],
   "source": [
    "[(text_sections[42][text_section_ids[42][i]], text_paragraphs[42][i]) for i in range(5)]"
   ]
  },
  {
   "cell_type": "markdown",
   "metadata": {},
   "source": [
    "What does the paragraph-length distribution look like?"
   ]
  },
  {
   "cell_type": "code",
   "execution_count": null,
   "metadata": {},
   "outputs": [],
   "source": [
    "paragraph_lengths = np.array([len(paragraphs) for paragraphs in text_paragraphs])\n",
    "min(paragraph_lengths), max(paragraph_lengths), sum(paragraph_lengths)/len(paragraph_lengths)"
   ]
  },
  {
   "cell_type": "code",
   "execution_count": null,
   "metadata": {},
   "outputs": [],
   "source": [
    "plt.hist(paragraph_lengths, 40)\n",
    "plt.show()"
   ]
  },
  {
   "cell_type": "markdown",
   "metadata": {},
   "source": [
    "Which books have the most paragraphs?"
   ]
  },
  {
   "cell_type": "code",
   "execution_count": null,
   "metadata": {},
   "outputs": [],
   "source": [
    "top_paragraph_length_indices = get_top_indices(paragraph_lengths, 10)\n",
    "for index in top_paragraph_length_indices:\n",
    "    print('{:d}: {}'.format(paragraph_lengths[index], book_ids[index]))"
   ]
  },
  {
   "cell_type": "markdown",
   "metadata": {},
   "source": [
    "Get a better histogram of paragraph lengths without absurdly monstrous outliers."
   ]
  },
  {
   "cell_type": "code",
   "execution_count": null,
   "metadata": {},
   "outputs": [],
   "source": [
    "paragraph_lengths_2 = np.array([length for length in paragraph_lengths if length < 10000])\n",
    "len(paragraph_lengths_2), len(paragraph_lengths_2)/len(paragraph_lengths)"
   ]
  },
  {
   "cell_type": "code",
   "execution_count": null,
   "metadata": {},
   "outputs": [],
   "source": [
    "plt.hist(paragraph_lengths_2, 40)\n",
    "plt.show()"
   ]
  },
  {
   "cell_type": "markdown",
   "metadata": {},
   "source": [
    "Half of the `x` axis of the above histogram is still a long tail. Zoom in to the majority of texts."
   ]
  },
  {
   "cell_type": "code",
   "execution_count": null,
   "metadata": {},
   "outputs": [],
   "source": [
    "paragraph_lengths_3 = np.array([length for length in paragraph_lengths if length < 4000])\n",
    "len(paragraph_lengths_3), len(paragraph_lengths_3)/len(paragraph_lengths)"
   ]
  },
  {
   "cell_type": "code",
   "execution_count": null,
   "metadata": {},
   "outputs": [],
   "source": [
    "plt.hist(paragraph_lengths_3, 40)\n",
    "# plt.savefig(os.path.join(folders.FIGURES_PATH, 'book_majority_paragraph_length'), bbox_inches='tight')\n",
    "plt.show()"
   ]
  },
  {
   "cell_type": "markdown",
   "metadata": {},
   "source": [
    "Try to find a reasonable range of paragraphs."
   ]
  },
  {
   "cell_type": "code",
   "execution_count": null,
   "metadata": {},
   "outputs": [],
   "source": [
    "paragraph_lengths_4 = np.array([length for length in paragraph_lengths if 250 <= length and length <= 7500])\n",
    "len(paragraph_lengths_4), len(paragraph_lengths_4)/len(paragraph_lengths)"
   ]
  },
  {
   "cell_type": "code",
   "execution_count": null,
   "metadata": {},
   "outputs": [],
   "source": [
    "plt.hist(paragraph_lengths_4, 40)\n",
    "plt.show()"
   ]
  },
  {
   "cell_type": "markdown",
   "metadata": {},
   "source": [
    "If we had to specify a fixed number of paragraphs `n` to pass to a model, what would `n` be?"
   ]
  },
  {
   "cell_type": "code",
   "execution_count": null,
   "metadata": {},
   "outputs": [],
   "source": [
    "def print_between(values, low=None, high=None):\n",
    "    between = [value for value in values if (low is None or value >= low) and (high is None or value <= high)]\n",
    "    print('low={}; high={}; len={:d}; percentile={:.4f}'.format(low, high, len(between), len(between)/len(values)))"
   ]
  },
  {
   "cell_type": "code",
   "execution_count": null,
   "metadata": {},
   "outputs": [],
   "source": [
    "print_between(paragraph_lengths_4, high=512)\n",
    "print_between(paragraph_lengths_4, high=1024)\n",
    "print_between(paragraph_lengths_4, high=2048)\n",
    "print_between(paragraph_lengths_4, high=4096)"
   ]
  },
  {
   "cell_type": "markdown",
   "metadata": {},
   "source": [
    "View book titles with few paragraphs."
   ]
  },
  {
   "cell_type": "code",
   "execution_count": null,
   "metadata": {},
   "outputs": [],
   "source": [
    "bottom_paragraph_length_indices = get_bottom_indices(paragraph_lengths, 512)\n",
    "for index in bottom_paragraph_length_indices:\n",
    "    print('{:>3d}: {}'.format(paragraph_lengths[index], book_ids[index]))"
   ]
  },
  {
   "cell_type": "code",
   "execution_count": null,
   "metadata": {},
   "outputs": [],
   "source": [
    "paragraph_lengths_6 = np.array([length for length in paragraph_lengths if length < 1000])\n",
    "len(paragraph_lengths_6), len(paragraph_lengths_6)/len(paragraph_lengths)"
   ]
  },
  {
   "cell_type": "code",
   "execution_count": null,
   "metadata": {},
   "outputs": [],
   "source": [
    "plt.hist(paragraph_lengths_6, 40)\n",
    "plt.show()"
   ]
  },
  {
   "cell_type": "markdown",
   "metadata": {},
   "source": [
    "### Tokens"
   ]
  },
  {
   "cell_type": "code",
   "execution_count": null,
   "metadata": {},
   "outputs": [],
   "source": [
    "text_tokens, _ = zip(*token_inputs)\n",
    "len(text_tokens)"
   ]
  },
  {
   "cell_type": "code",
   "execution_count": null,
   "metadata": {},
   "outputs": [],
   "source": [
    "text_tokens[42][:5]"
   ]
  },
  {
   "cell_type": "code",
   "execution_count": null,
   "metadata": {},
   "outputs": [],
   "source": [
    "token_locations = []\n",
    "token_lengths = []\n",
    "for text_i, paragraphs_tokens in enumerate(text_tokens):\n",
    "    for paragraph_i, tokens in enumerate(paragraphs_tokens):\n",
    "        token_locations.append((text_i, paragraph_i))\n",
    "        token_lengths.append(len(tokens))\n",
    "token_lengths = np.array(token_lengths)\n",
    "len(token_lengths), min(token_lengths), max(token_lengths), sum(token_lengths)/len(token_lengths)"
   ]
  },
  {
   "cell_type": "code",
   "execution_count": null,
   "metadata": {},
   "outputs": [],
   "source": [
    "plt.hist(token_lengths, 40)\n",
    "plt.show()"
   ]
  },
  {
   "cell_type": "code",
   "execution_count": null,
   "metadata": {},
   "outputs": [],
   "source": [
    "top_token_length_indices = get_top_indices(token_lengths, 32)\n",
    "for index in top_token_length_indices:\n",
    "    token_location = token_locations[index]\n",
    "    text_i, paragraph_i = token_location[0], token_location[1]\n",
    "    print('{:d}: {} ({:d})'.format(token_lengths[index], book_ids[text_i], paragraph_i))"
   ]
  },
  {
   "cell_type": "markdown",
   "metadata": {},
   "source": [
    "Zoom in."
   ]
  },
  {
   "cell_type": "code",
   "execution_count": null,
   "metadata": {},
   "outputs": [],
   "source": [
    "token_lengths_2 = [length for length in token_lengths if length < 2500]\n",
    "len(token_lengths_2), len(token_lengths_2)/len(token_lengths)"
   ]
  },
  {
   "cell_type": "code",
   "execution_count": null,
   "metadata": {},
   "outputs": [],
   "source": [
    "plt.hist(token_lengths_2, 40)\n",
    "plt.show()"
   ]
  },
  {
   "cell_type": "markdown",
   "metadata": {},
   "source": [
    "Zoom in again."
   ]
  },
  {
   "cell_type": "code",
   "execution_count": null,
   "metadata": {},
   "outputs": [],
   "source": [
    "token_lengths_3 = [length for length in token_lengths if length < 1024]\n",
    "len(token_lengths_3), len(token_lengths_3)/len(token_lengths)"
   ]
  },
  {
   "cell_type": "code",
   "execution_count": null,
   "metadata": {},
   "outputs": [],
   "source": [
    "plt.hist(token_lengths_3, 40)\n",
    "plt.show()"
   ]
  },
  {
   "cell_type": "markdown",
   "metadata": {},
   "source": [
    "Zoom in again again."
   ]
  },
  {
   "cell_type": "code",
   "execution_count": null,
   "metadata": {},
   "outputs": [],
   "source": [
    "token_lengths_4 = [length for length in token_lengths if length < 512]\n",
    "len(token_lengths_4), len(token_lengths_4)/len(token_lengths)"
   ]
  },
  {
   "cell_type": "code",
   "execution_count": null,
   "metadata": {},
   "outputs": [],
   "source": [
    "plt.hist(token_lengths_4, 40)\n",
    "plt.show()"
   ]
  },
  {
   "cell_type": "markdown",
   "metadata": {},
   "source": [
    "Zoom in again again again."
   ]
  },
  {
   "cell_type": "code",
   "execution_count": null,
   "metadata": {},
   "outputs": [],
   "source": [
    "token_lengths_5 = [length for length in token_lengths if length < 256]\n",
    "len(token_lengths_5), len(token_lengths_5)/len(token_lengths)"
   ]
  },
  {
   "cell_type": "code",
   "execution_count": null,
   "metadata": {},
   "outputs": [],
   "source": [
    "plt.hist(token_lengths_5, 40)\n",
    "plt.show()"
   ]
  },
  {
   "cell_type": "markdown",
   "metadata": {},
   "source": [
    "Find a reasonable range."
   ]
  },
  {
   "cell_type": "code",
   "execution_count": null,
   "metadata": {},
   "outputs": [],
   "source": [
    "print_between(token_lengths, high=64)\n",
    "print_between(token_lengths, high=128)\n",
    "print_between(token_lengths, high=140)\n",
    "print_between(token_lengths, high=160)"
   ]
  },
  {
   "cell_type": "code",
   "execution_count": null,
   "metadata": {},
   "outputs": [],
   "source": [
    "print_between(token_lengths, high=2)\n",
    "print_between(token_lengths, high=3)\n",
    "print_between(token_lengths, high=4)\n",
    "print_between(token_lengths, high=5)\n",
    "print_between(token_lengths, high=6)"
   ]
  },
  {
   "cell_type": "code",
   "execution_count": null,
   "metadata": {},
   "outputs": [],
   "source": [
    "print_between(token_lengths, low=6, high=128)"
   ]
  },
  {
   "cell_type": "code",
   "execution_count": null,
   "metadata": {},
   "outputs": [],
   "source": []
  }
 ],
 "metadata": {
  "kernelspec": {
   "display_name": "Python 3",
   "language": "python",
   "name": "python3"
  },
  "language_info": {
   "codemirror_mode": {
    "name": "ipython",
    "version": 3
   },
   "file_extension": ".py",
   "mimetype": "text/x-python",
   "name": "python",
   "nbconvert_exporter": "python",
   "pygments_lexer": "ipython3",
   "version": "3.6.8"
  }
 },
 "nbformat": 4,
 "nbformat_minor": 2
}
