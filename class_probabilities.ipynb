{
 "cells": [
  {
   "cell_type": "markdown",
   "metadata": {},
   "source": [
    "# class_probabilities"
   ]
  },
  {
   "cell_type": "code",
   "execution_count": null,
   "metadata": {},
   "outputs": [],
   "source": [
    "import numpy as np\n",
    "from sklearn.preprocessing import OneHotEncoder\n",
    "import pandas as pd\n",
    "import seaborn as sns\n",
    "import matplotlib.pyplot as plt\n",
    "import os\n",
    "\n",
    "import bookcave"
   ]
  },
  {
   "cell_type": "code",
   "execution_count": null,
   "metadata": {},
   "outputs": [],
   "source": [
    "_, Y, categories, levels, \\\n",
    "_, _, _, _, categories_df \\\n",
    "= bookcave.get_data({'text'}, text_input='filename', only_categories={0, 1, 2, 3, 4, 5, 6}, return_meta=True)"
   ]
  },
  {
   "cell_type": "code",
   "execution_count": null,
   "metadata": {},
   "outputs": [],
   "source": [
    "categories"
   ]
  },
  {
   "cell_type": "code",
   "execution_count": null,
   "metadata": {},
   "outputs": [],
   "source": [
    "levels"
   ]
  },
  {
   "cell_type": "code",
   "execution_count": null,
   "metadata": {},
   "outputs": [],
   "source": [
    "def get_flat_levels():\n",
    "    for category_levels in levels:\n",
    "        for level in category_levels:\n",
    "            yield level\n",
    "\n",
    "flat_levels = list(get_flat_levels())\n",
    "for i, flat_level in enumerate(flat_levels):\n",
    "    print('{:2d}: {}'.format(i, flat_level))"
   ]
  },
  {
   "cell_type": "markdown",
   "metadata": {},
   "source": [
    "Encode labels as one-hot vectors."
   ]
  },
  {
   "cell_type": "code",
   "execution_count": null,
   "metadata": {},
   "outputs": [],
   "source": [
    "enc = OneHotEncoder(categories='auto', sparse=False)\n",
    "Y_hot = enc.fit_transform(Y)\n",
    "n, m = Y_hot.shape\n",
    "corr = np.eye(m)\n",
    "for i in range(m - 1):\n",
    "    for j in range(i + 1, m):\n",
    "        # count = sum(Y_hot[:, i] == Y_hot[:, j])\n",
    "        count = 0\n",
    "        same_count = 0\n",
    "        for y in Y_hot:\n",
    "            if y[i] == 1:\n",
    "                count += 1\n",
    "                if y[j] == 1:\n",
    "                    same_count += 1\n",
    "        corr[i, j] = same_count / count\n",
    "        corr[j, i] = same_count / count"
   ]
  },
  {
   "cell_type": "code",
   "execution_count": null,
   "metadata": {},
   "outputs": [],
   "source": [
    "corr_df = pd.DataFrame(corr)\n",
    "sns.heatmap(corr_df)\n",
    "plt.title('Class Conditional Probabilities')\n",
    "plt.savefig(os.path.join('..', 'figures', 'class_conditional_probabilities.png'), bbox_inches='tight')\n",
    "plt.show()"
   ]
  },
  {
   "cell_type": "markdown",
   "metadata": {},
   "source": [
    "Compute conditional probabilities for every level to every other level (in different categories)."
   ]
  },
  {
   "cell_type": "code",
   "execution_count": null,
   "metadata": {},
   "outputs": [],
   "source": [
    "ratings = ['All Ages', 'Mild', 'Mild+', 'Moderate', 'Moderate+', 'Adult', 'Adult+']\n",
    "rating_to_index = {rating: i for i, rating in enumerate(ratings)}\n",
    "rating_colors = ['royalblue', 'mediumseagreen', 'darkseagreen', 'yellowgreen', 'yellow', 'orange', 'orangered']\n",
    "\n",
    "def cond_proba(sep_len=72):\n",
    "    for category_index, category_levels in enumerate(levels):\n",
    "        category = categories[category_index]\n",
    "        if category_index != 0:\n",
    "            if sep_len > 1:\n",
    "                print()\n",
    "                print('=' * sep_len)\n",
    "            print()\n",
    "        print('{}'.format(categories[category_index]))\n",
    "        \n",
    "        y = Y[:, category_index]\n",
    "        \n",
    "        for level_index, level in enumerate(category_levels):\n",
    "            level_match_indices = [i for i, value in enumerate(y) if value == level_index]\n",
    "            p_category = len(level_match_indices) / len(y)\n",
    "            \n",
    "            if level_index != 0:\n",
    "                if sep_len > 1:\n",
    "                    print()\n",
    "                    print('  ' + '-' * (sep_len - 2))\n",
    "            print()\n",
    "            print('  {} ({:.2%} of category)'.format(level, p_category))\n",
    "            \n",
    "            for other_category_index, other_category_levels in enumerate(levels):\n",
    "                if category_index == other_category_index:\n",
    "                    continue\n",
    "                \n",
    "                other_category = categories[other_category_index]\n",
    "                print()\n",
    "                print('    {}'.format(other_category))\n",
    "                \n",
    "                y_other = Y[:, other_category_index]\n",
    "                bincount = np.bincount(y_other[level_match_indices], minlength=len(other_category_levels))\n",
    "                ps = [count / len(level_match_indices) for count in bincount]\n",
    "                    \n",
    "                for other_level_index, other_level in enumerate(other_category_levels):\n",
    "                    p = ps[other_level_index]\n",
    "                    print('      {:.4f} = P(\"{}\" | \"{}\")'.format(p, other_level, level))"
   ]
  },
  {
   "cell_type": "code",
   "execution_count": null,
   "metadata": {},
   "outputs": [],
   "source": [
    "cond_proba()"
   ]
  },
  {
   "cell_type": "code",
   "execution_count": null,
   "metadata": {},
   "outputs": [],
   "source": []
  }
 ],
 "metadata": {
  "kernelspec": {
   "display_name": "Python 3",
   "language": "python",
   "name": "python3"
  },
  "language_info": {
   "codemirror_mode": {
    "name": "ipython",
    "version": 3
   },
   "file_extension": ".py",
   "mimetype": "text/x-python",
   "name": "python",
   "nbconvert_exporter": "python",
   "pygments_lexer": "ipython3",
   "version": "3.6.8"
  }
 },
 "nbformat": 4,
 "nbformat_minor": 2
}
