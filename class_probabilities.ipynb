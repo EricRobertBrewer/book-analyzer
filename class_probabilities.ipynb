{
 "cells": [
  {
   "cell_type": "markdown",
   "metadata": {},
   "source": [
    "# class_probabilities"
   ]
  },
  {
   "cell_type": "code",
   "execution_count": null,
   "metadata": {},
   "outputs": [],
   "source": [
    "import numpy as np\n",
    "from sklearn.preprocessing import OneHotEncoder\n",
    "import pandas as pd\n",
    "import seaborn as sns\n",
    "import matplotlib.pyplot as plt\n",
    "import os\n",
    "\n",
    "from sites.bookcave import bookcave"
   ]
  },
  {
   "cell_type": "code",
   "execution_count": null,
   "metadata": {},
   "outputs": [],
   "source": [
    "_, Y, categories, levels, \\\n",
    "_, _, _, _, categories_df \\\n",
    "= bookcave.get_data({'text'}, text_input='filename', only_categories={0, 1, 2, 3, 4, 5, 6}, return_meta=True)"
   ]
  },
  {
   "cell_type": "code",
   "execution_count": null,
   "metadata": {},
   "outputs": [],
   "source": [
    "len(Y)"
   ]
  },
  {
   "cell_type": "code",
   "execution_count": null,
   "metadata": {},
   "outputs": [],
   "source": [
    "categories"
   ]
  },
  {
   "cell_type": "code",
   "execution_count": null,
   "metadata": {},
   "outputs": [],
   "source": [
    "levels"
   ]
  },
  {
   "cell_type": "code",
   "execution_count": null,
   "metadata": {},
   "outputs": [],
   "source": [
    "def get_flat_levels():\n",
    "    for category_levels in levels:\n",
    "        for level in category_levels:\n",
    "            yield level\n",
    "\n",
    "flat_levels = list(get_flat_levels())\n",
    "for i, flat_level in enumerate(flat_levels):\n",
    "    print('{:2d}: {}'.format(i, flat_level))"
   ]
  },
  {
   "cell_type": "markdown",
   "metadata": {},
   "source": [
    "Encode labels as one-hot vectors."
   ]
  },
  {
   "cell_type": "code",
   "execution_count": null,
   "metadata": {},
   "outputs": [],
   "source": [
    "enc = OneHotEncoder(categories='auto', sparse=False)\n",
    "Y_hot = enc.fit_transform(Y)\n",
    "n, m = Y_hot.shape\n",
    "corr = np.zeros((m, m))\n",
    "for given_index in range(m):\n",
    "    given_match_indices = [i for i, y in enumerate(Y_hot) if y[given_index] == 1]\n",
    "    for other_index in range(m):\n",
    "        other_match_indices = [i for i in given_match_indices if Y_hot[i, other_index] == 1]\n",
    "        corr[other_index, given_index] = len(other_match_indices) / len(given_match_indices)"
   ]
  },
  {
   "cell_type": "code",
   "execution_count": null,
   "metadata": {},
   "outputs": [],
   "source": [
    "corr_df = pd.DataFrame(corr)\n",
    "ax = sns.heatmap(corr_df, cmap='Blues_r')\n",
    "category_indices = [4, 8, 10, 14, 18, 22]\n",
    "ax.hlines(category_indices, *ax.get_xlim(), colors='white')\n",
    "ax.vlines(category_indices, *ax.get_ylim(), colors='white')\n",
    "plt.title('Co-occurrence Probabilities for Maturity Rating Levels')\n",
    "plt.xlabel('Given Rating Level')\n",
    "plt.ylabel('Probability of Other Rating Level')\n",
    "fname = os.path.join('..', 'figures', 'level_conditional_probabilities-{:d}.png'.format(len(Y)))\n",
    "plt.savefig(fname, bbox_inches='tight')\n",
    "plt.show()"
   ]
  },
  {
   "cell_type": "code",
   "execution_count": null,
   "metadata": {},
   "outputs": [],
   "source": [
    "corr[9, 3]"
   ]
  },
  {
   "cell_type": "code",
   "execution_count": null,
   "metadata": {},
   "outputs": [],
   "source": [
    "corr[9, 16]"
   ]
  },
  {
   "cell_type": "code",
   "execution_count": null,
   "metadata": {},
   "outputs": [],
   "source": [
    "corr[9, 17]"
   ]
  },
  {
   "cell_type": "code",
   "execution_count": null,
   "metadata": {},
   "outputs": [],
   "source": [
    "corr[21, 17]"
   ]
  },
  {
   "cell_type": "code",
   "execution_count": null,
   "metadata": {},
   "outputs": [],
   "source": []
  }
 ],
 "metadata": {
  "kernelspec": {
   "display_name": "Python 3",
   "language": "python",
   "name": "python3"
  },
  "language_info": {
   "codemirror_mode": {
    "name": "ipython",
    "version": 3
   },
   "file_extension": ".py",
   "mimetype": "text/x-python",
   "name": "python",
   "nbconvert_exporter": "python",
   "pygments_lexer": "ipython3",
   "version": "3.6.8"
  }
 },
 "nbformat": 4,
 "nbformat_minor": 2
}
