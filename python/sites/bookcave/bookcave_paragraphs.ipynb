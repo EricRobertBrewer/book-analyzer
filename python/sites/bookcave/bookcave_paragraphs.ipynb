{
 "cells": [
  {
   "cell_type": "code",
   "execution_count": 1,
   "metadata": {},
   "outputs": [
    {
     "name": "stdout",
     "output_type": "stream",
     "text": [
      "/Users/ericrobertbrewer/Code/BYU/Suitability/book-analyzer\n"
     ]
    }
   ],
   "source": [
    "%cd ../../.."
   ]
  },
  {
   "cell_type": "markdown",
   "metadata": {},
   "source": [
    "# bookcave_paragraphs"
   ]
  },
  {
   "cell_type": "code",
   "execution_count": 2,
   "metadata": {},
   "outputs": [],
   "source": [
    "import os\n",
    "\n",
    "import matplotlib.pyplot as plt\n",
    "import numpy as np\n",
    "\n",
    "from python import folders\n",
    "from python.sites.bookcave import bookcave\n",
    "from python.text import STOPWORDS"
   ]
  },
  {
   "cell_type": "markdown",
   "metadata": {},
   "source": [
    "## Features"
   ]
  },
  {
   "cell_type": "markdown",
   "metadata": {},
   "source": [
    "Get the lengths of all the paragraphs."
   ]
  },
  {
   "cell_type": "code",
   "execution_count": 3,
   "metadata": {
    "scrolled": false
   },
   "outputs": [],
   "source": [
    "def get_lengths(remove_stopwords=False):\n",
    "    text_n_paragraphs = []\n",
    "    text_paragraph_n_tokens = []\n",
    "    fnames = os.listdir(os.path.join(folders.AMAZON_KINDLE_PARAGRAPH_TOKENS_PATH))\n",
    "    for fname in fnames:\n",
    "        if fname in {'.DS_Store'}:\n",
    "            continue\n",
    "        path = os.path.join(folders.AMAZON_KINDLE_PARAGRAPH_TOKENS_PATH, fname)\n",
    "        n_paragraphs = 0\n",
    "        paragraph_n_tokens = []\n",
    "        with open(path, 'r', encoding='utf-8') as fd:\n",
    "            n_sections = int(fd.readline()[:-1])\n",
    "            for section_i in range(n_sections):\n",
    "                section_n_paragraphs = int(fd.readline()[:-1])\n",
    "                n_paragraphs += section_n_paragraphs\n",
    "                for _ in range(section_n_paragraphs):\n",
    "                    tokens = fd.readline()[:-1].split(' ')\n",
    "                    if not remove_stopwords:\n",
    "                        n_tokens = len(tokens)\n",
    "                    else:\n",
    "                        n_tokens = len([token for token in tokens if token not in STOPWORDS])\n",
    "                    paragraph_n_tokens.append(n_tokens)\n",
    "        text_n_paragraphs.append(n_paragraphs)\n",
    "        text_paragraph_n_tokens.append(paragraph_n_tokens)\n",
    "    \n",
    "    return text_n_paragraphs, text_paragraph_n_tokens\n",
    "\n",
    "\n",
    "def get_all_n_tokens(text_paragraph_n_tokens):\n",
    "    all_n_tokens = []\n",
    "    for paragraph_n_tokens in text_paragraph_n_tokens:\n",
    "        for n_tokens in paragraph_n_tokens:\n",
    "            all_n_tokens.append(n_tokens)\n",
    "    \n",
    "    return all_n_tokens"
   ]
  },
  {
   "cell_type": "markdown",
   "metadata": {},
   "source": [
    "### Paragraphs"
   ]
  },
  {
   "cell_type": "code",
   "execution_count": 4,
   "metadata": {},
   "outputs": [
    {
     "data": {
      "text/plain": [
       "(7362, 7362)"
      ]
     },
     "execution_count": 4,
     "metadata": {},
     "output_type": "execute_result"
    }
   ],
   "source": [
    "text_n_paragraphs, text_paragraph_n_tokens = get_lengths()\n",
    "len(text_n_paragraphs), len(text_paragraph_n_tokens)"
   ]
  },
  {
   "cell_type": "markdown",
   "metadata": {},
   "source": [
    "What does the paragraph-length distribution look like?"
   ]
  },
  {
   "cell_type": "code",
   "execution_count": 5,
   "metadata": {},
   "outputs": [
    {
     "data": {
      "text/plain": [
       "(0, 40126, 2371.9424069546317)"
      ]
     },
     "execution_count": 5,
     "metadata": {},
     "output_type": "execute_result"
    }
   ],
   "source": [
    "min(text_n_paragraphs), max(text_n_paragraphs), sum(text_n_paragraphs) / len(text_n_paragraphs)"
   ]
  },
  {
   "cell_type": "code",
   "execution_count": 6,
   "metadata": {},
   "outputs": [
    {
     "data": {
      "image/png": "[encoded data removed]",
      "text/plain": [
       "<Figure size 864x432 with 1 Axes>"
      ]
     },
     "metadata": {
      "needs_background": "light"
     },
     "output_type": "display_data"
    }
   ],
   "source": [
    "plt.figure(figsize=(12, 6))\n",
    "plt.hist(text_n_paragraphs, bins=64)\n",
    "plt.show()"
   ]
  },
  {
   "cell_type": "markdown",
   "metadata": {},
   "source": [
    "Get a better histogram of paragraph lengths without absurdly monstrous outliers."
   ]
  },
  {
   "cell_type": "code",
   "execution_count": 7,
   "metadata": {},
   "outputs": [
    {
     "data": {
      "text/plain": [
       "(7225, 0.9813909263787014)"
      ]
     },
     "execution_count": 7,
     "metadata": {},
     "output_type": "execute_result"
    }
   ],
   "source": [
    "text_n_paragraphs_8192 = np.array([n for n in text_n_paragraphs if n <= 8192])\n",
    "len(text_n_paragraphs_8192), len(text_n_paragraphs_8192) / len(text_n_paragraphs)"
   ]
  },
  {
   "cell_type": "code",
   "execution_count": 8,
   "metadata": {},
   "outputs": [
    {
     "data": {
      "image/png": "[encoded data removed]",
      "text/plain": [
       "<Figure size 864x432 with 1 Axes>"
      ]
     },
     "metadata": {
      "needs_background": "light"
     },
     "output_type": "display_data"
    }
   ],
   "source": [
    "plt.figure(figsize=(12, 6))\n",
    "plt.hist(text_n_paragraphs_8192, bins=128)\n",
    "plt.xlabel('Number of paragraphs')\n",
    "plt.ylabel('Number of texts')\n",
    "plt.savefig(os.path.join(folders.FIGURES_PATH, 'text_n_paragraphs_8192'), bbox_inches='tight')\n",
    "plt.show()"
   ]
  },
  {
   "cell_type": "markdown",
   "metadata": {},
   "source": [
    "Half of the `x` axis of the above histogram is still a long tail. Zoom in to the majority of texts."
   ]
  },
  {
   "cell_type": "code",
   "execution_count": 9,
   "metadata": {},
   "outputs": [
    {
     "data": {
      "text/plain": [
       "(6688, 0.9084487910893779)"
      ]
     },
     "execution_count": 9,
     "metadata": {},
     "output_type": "execute_result"
    }
   ],
   "source": [
    "text_n_paragraphs_4096 = np.array([n for n in text_n_paragraphs if n <= 4096])\n",
    "len(text_n_paragraphs_4096), len(text_n_paragraphs_4096) / len(text_n_paragraphs)"
   ]
  },
  {
   "cell_type": "code",
   "execution_count": 10,
   "metadata": {},
   "outputs": [
    {
     "data": {
      "image/png": "[encoded data removed]",
      "text/plain": [
       "<Figure size 864x432 with 1 Axes>"
      ]
     },
     "metadata": {
      "needs_background": "light"
     },
     "output_type": "display_data"
    }
   ],
   "source": [
    "plt.figure(figsize=(12, 6))\n",
    "plt.hist(text_n_paragraphs_4096, bins=64)\n",
    "# plt.savefig(os.path.join(folders.FIGURES_PATH, 'book_majority_paragraph_length'), bbox_inches='tight')\n",
    "plt.show()"
   ]
  },
  {
   "cell_type": "markdown",
   "metadata": {},
   "source": [
    "Try to find a reasonable range of paragraphs."
   ]
  },
  {
   "cell_type": "code",
   "execution_count": 11,
   "metadata": {},
   "outputs": [
    {
     "data": {
      "text/plain": [
       "(6237, 0.8471882640586798)"
      ]
     },
     "execution_count": 11,
     "metadata": {},
     "output_type": "execute_result"
    }
   ],
   "source": [
    "text_n_paragraphs_256_4096 = np.array([n for n in text_n_paragraphs if 256 <= n and n <= 4096])\n",
    "len(text_n_paragraphs_256_4096), len(text_n_paragraphs_256_4096) / len(text_n_paragraphs)"
   ]
  },
  {
   "cell_type": "code",
   "execution_count": 12,
   "metadata": {},
   "outputs": [
    {
     "data": {
      "image/png": "[encoded data removed]",
      "text/plain": [
       "<Figure size 432x288 with 1 Axes>"
      ]
     },
     "metadata": {
      "needs_background": "light"
     },
     "output_type": "display_data"
    }
   ],
   "source": [
    "plt.hist(text_n_paragraphs_256_4096, bins=60)\n",
    "plt.show()"
   ]
  },
  {
   "cell_type": "markdown",
   "metadata": {},
   "source": [
    "### Tokens with stopwords"
   ]
  },
  {
   "cell_type": "code",
   "execution_count": 13,
   "metadata": {},
   "outputs": [
    {
     "data": {
      "text/plain": [
       "17462240"
      ]
     },
     "execution_count": 13,
     "metadata": {},
     "output_type": "execute_result"
    }
   ],
   "source": [
    "all_n_tokens = get_all_n_tokens(text_paragraph_n_tokens)\n",
    "len(all_n_tokens)"
   ]
  },
  {
   "cell_type": "code",
   "execution_count": 14,
   "metadata": {},
   "outputs": [
    {
     "data": {
      "image/png": "[encoded data removed]",
      "text/plain": [
       "<Figure size 864x432 with 1 Axes>"
      ]
     },
     "metadata": {
      "needs_background": "light"
     },
     "output_type": "display_data"
    }
   ],
   "source": [
    "plt.figure(figsize=(12, 6))\n",
    "plt.hist(all_n_tokens, bins=128)\n",
    "plt.show()"
   ]
  },
  {
   "cell_type": "markdown",
   "metadata": {},
   "source": [
    "Zoom in."
   ]
  },
  {
   "cell_type": "code",
   "execution_count": 15,
   "metadata": {},
   "outputs": [
    {
     "data": {
      "text/plain": [
       "(17462149, 0.9999947887556235)"
      ]
     },
     "execution_count": 15,
     "metadata": {},
     "output_type": "execute_result"
    }
   ],
   "source": [
    "all_n_tokens_1024 = [n for n in all_n_tokens if n <= 1024]\n",
    "len(all_n_tokens_1024), len(all_n_tokens_1024) / len(all_n_tokens)"
   ]
  },
  {
   "cell_type": "code",
   "execution_count": 16,
   "metadata": {},
   "outputs": [
    {
     "data": {
      "image/png": "[encoded data removed]",
      "text/plain": [
       "<Figure size 864x432 with 1 Axes>"
      ]
     },
     "metadata": {
      "needs_background": "light"
     },
     "output_type": "display_data"
    }
   ],
   "source": [
    "plt.figure(figsize=(12, 6))\n",
    "plt.hist(all_n_tokens_1024, bins=64)\n",
    "plt.show()"
   ]
  },
  {
   "cell_type": "markdown",
   "metadata": {},
   "source": [
    "Zoom in again."
   ]
  },
  {
   "cell_type": "code",
   "execution_count": 17,
   "metadata": {},
   "outputs": [
    {
     "data": {
      "text/plain": [
       "(17401193, 0.9965040567533145)"
      ]
     },
     "execution_count": 17,
     "metadata": {},
     "output_type": "execute_result"
    }
   ],
   "source": [
    "all_n_tokens_192 = [n for n in all_n_tokens if n <= 192]\n",
    "len(all_n_tokens_192), len(all_n_tokens_192) / len(all_n_tokens)"
   ]
  },
  {
   "cell_type": "code",
   "execution_count": 18,
   "metadata": {},
   "outputs": [
    {
     "data": {
      "image/png": "[encoded data removed]",
      "text/plain": [
       "<Figure size 864x432 with 1 Axes>"
      ]
     },
     "metadata": {
      "needs_background": "light"
     },
     "output_type": "display_data"
    }
   ],
   "source": [
    "plt.figure(figsize=(12, 6))\n",
    "plt.hist(all_n_tokens_192, bins=96)\n",
    "plt.title('Tokens per paragraph including stop-words')\n",
    "plt.xlabel('Number of tokens')\n",
    "plt.ylabel('Number of paragraphs')\n",
    "plt.savefig(os.path.join(folders.FIGURES_PATH, 'all_n_tokens_192'))\n",
    "plt.show()"
   ]
  },
  {
   "cell_type": "code",
   "execution_count": 19,
   "metadata": {},
   "outputs": [
    {
     "data": {
      "text/plain": [
       "(17108718, 0.9797550600610231)"
      ]
     },
     "execution_count": 19,
     "metadata": {},
     "output_type": "execute_result"
    }
   ],
   "source": [
    "all_n_tokens_128 = [n for n in all_n_tokens if n <= 128]\n",
    "len(all_n_tokens_128), len(all_n_tokens_128) / len(all_n_tokens)"
   ]
  },
  {
   "cell_type": "markdown",
   "metadata": {},
   "source": [
    "### Tokens without stopwords"
   ]
  },
  {
   "cell_type": "code",
   "execution_count": 20,
   "metadata": {},
   "outputs": [
    {
     "data": {
      "text/plain": [
       "7362"
      ]
     },
     "execution_count": 20,
     "metadata": {},
     "output_type": "execute_result"
    }
   ],
   "source": [
    "_, text_paragraph_n_tokens_nostop = get_lengths(remove_stopwords=True)\n",
    "len(text_paragraph_n_tokens_nostop)"
   ]
  },
  {
   "cell_type": "code",
   "execution_count": 21,
   "metadata": {},
   "outputs": [
    {
     "data": {
      "text/plain": [
       "17462240"
      ]
     },
     "execution_count": 21,
     "metadata": {},
     "output_type": "execute_result"
    }
   ],
   "source": [
    "all_n_tokens_nostop = get_all_n_tokens(text_paragraph_n_tokens_nostop)\n",
    "len(all_n_tokens_nostop)"
   ]
  },
  {
   "cell_type": "code",
   "execution_count": 22,
   "metadata": {},
   "outputs": [
    {
     "data": {
      "image/png": "[encoded data removed]",
      "text/plain": [
       "<Figure size 864x432 with 1 Axes>"
      ]
     },
     "metadata": {
      "needs_background": "light"
     },
     "output_type": "display_data"
    }
   ],
   "source": [
    "plt.figure(figsize=(12, 6))\n",
    "plt.hist(all_n_tokens_nostop, bins=128)\n",
    "plt.show()"
   ]
  },
  {
   "cell_type": "markdown",
   "metadata": {},
   "source": [
    "Zoom in."
   ]
  },
  {
   "cell_type": "code",
   "execution_count": 23,
   "metadata": {},
   "outputs": [
    {
     "data": {
      "text/plain": [
       "(17462216, 0.9999986256058787)"
      ]
     },
     "execution_count": 23,
     "metadata": {},
     "output_type": "execute_result"
    }
   ],
   "source": [
    "all_n_tokens_nostop_1024 = [n for n in all_n_tokens_nostop if n <= 1024]\n",
    "len(all_n_tokens_nostop_1024), len(all_n_tokens_nostop_1024) / len(all_n_tokens_nostop)"
   ]
  },
  {
   "cell_type": "code",
   "execution_count": 24,
   "metadata": {},
   "outputs": [
    {
     "data": {
      "image/png": "[encoded data removed]",
      "text/plain": [
       "<Figure size 864x432 with 1 Axes>"
      ]
     },
     "metadata": {
      "needs_background": "light"
     },
     "output_type": "display_data"
    }
   ],
   "source": [
    "plt.figure(figsize=(12, 6))\n",
    "plt.hist(all_n_tokens_nostop_1024, bins=64)\n",
    "plt.show()"
   ]
  },
  {
   "cell_type": "markdown",
   "metadata": {},
   "source": [
    "Zoom in again."
   ]
  },
  {
   "cell_type": "code",
   "execution_count": 25,
   "metadata": {},
   "outputs": [
    {
     "data": {
      "text/plain": [
       "(17435887, 0.9984908579884367)"
      ]
     },
     "execution_count": 25,
     "metadata": {},
     "output_type": "execute_result"
    }
   ],
   "source": [
    "all_n_tokens_nostop_128 = [n for n in all_n_tokens_nostop if n <= 128]\n",
    "len(all_n_tokens_nostop_128), len(all_n_tokens_nostop_128) / len(all_n_tokens_nostop)"
   ]
  },
  {
   "cell_type": "code",
   "execution_count": 26,
   "metadata": {},
   "outputs": [
    {
     "data": {
      "image/png": "[encoded data removed]",
      "text/plain": [
       "<Figure size 864x432 with 1 Axes>"
      ]
     },
     "metadata": {
      "needs_background": "light"
     },
     "output_type": "display_data"
    }
   ],
   "source": [
    "plt.figure(figsize=(12, 6))\n",
    "plt.hist(all_n_tokens_nostop_128, bins=64)\n",
    "plt.title('Tokens per paragraph not including stop-words')\n",
    "plt.xlabel('Number of tokens')\n",
    "plt.ylabel('Number of paragraphs')\n",
    "plt.savefig(os.path.join(folders.FIGURES_PATH, 'all_n_tokens_nostop_128'))\n",
    "plt.show()"
   ]
  },
  {
   "cell_type": "code",
   "execution_count": 27,
   "metadata": {},
   "outputs": [
    {
     "data": {
      "text/plain": [
       "(16911163, 0.9684417921183078)"
      ]
     },
     "execution_count": 27,
     "metadata": {},
     "output_type": "execute_result"
    }
   ],
   "source": [
    "all_n_tokens_nostop_64 = [n for n in all_n_tokens_nostop if n <= 64]\n",
    "len(all_n_tokens_nostop_64), len(all_n_tokens_nostop_64) / len(all_n_tokens_nostop)"
   ]
  },
  {
   "cell_type": "code",
   "execution_count": null,
   "metadata": {},
   "outputs": [],
   "source": []
  }
 ],
 "metadata": {
  "kernelspec": {
   "display_name": "Python 3",
   "language": "python",
   "name": "python3"
  },
  "language_info": {
   "codemirror_mode": {
    "name": "ipython",
    "version": 3
   },
   "file_extension": ".py",
   "mimetype": "text/x-python",
   "name": "python",
   "nbconvert_exporter": "python",
   "pygments_lexer": "ipython3",
   "version": "3.7.4"
  }
 },
 "nbformat": 4,
 "nbformat_minor": 2
}
