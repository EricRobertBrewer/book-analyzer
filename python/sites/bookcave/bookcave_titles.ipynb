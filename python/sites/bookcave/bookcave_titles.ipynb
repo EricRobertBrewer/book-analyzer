{
 "cells": [
  {
   "cell_type": "code",
   "execution_count": 1,
   "metadata": {},
   "outputs": [
    {
     "name": "stdout",
     "output_type": "stream",
     "text": [
      "/Users/ericrobertbrewer/Code/BYU/Suitability/book-analyzer\n"
     ]
    }
   ],
   "source": [
    "%cd ../../.."
   ]
  },
  {
   "cell_type": "markdown",
   "metadata": {},
   "source": [
    "# bookcave_titles"
   ]
  },
  {
   "cell_type": "code",
   "execution_count": 2,
   "metadata": {},
   "outputs": [
    {
     "name": "stderr",
     "output_type": "stream",
     "text": [
      "Using TensorFlow backend.\n"
     ]
    }
   ],
   "source": [
    "import os\n",
    "import string\n",
    "\n",
    "from matplotlib import pyplot as plt\n",
    "import numpy as np\n",
    "\n",
    "from python.sites.bookcave import bookcave\n",
    "from python.util import shared_parameters"
   ]
  },
  {
   "cell_type": "code",
   "execution_count": 3,
   "metadata": {},
   "outputs": [
    {
     "data": {
      "text/plain": [
       "6395"
      ]
     },
     "execution_count": 3,
     "metadata": {},
     "output_type": "execute_result"
    }
   ],
   "source": [
    "inputs, _, categories, category_levels = \\\n",
    "    bookcave.get_data({'titles', 'paragraph_tokens'},\n",
    "                      subset_ratio=shared_parameters.DATA_SUBSET_RATIO,\n",
    "                      subset_seed=shared_parameters.DATA_SUBSET_SEED,\n",
    "                      min_len=shared_parameters.DATA_PARAGRAPH_MIN_LEN,\n",
    "                      max_len=shared_parameters.DATA_PARAGRAPH_MAX_LEN,\n",
    "                      min_tokens=shared_parameters.DATA_MIN_TOKENS,\n",
    "                      categories_mode=shared_parameters.DATA_CATEGORIES_MODE,\n",
    "                      return_overall=shared_parameters.DATA_RETURN_OVERALL)\n",
    "titles = inputs['titles']\n",
    "len(titles)"
   ]
  },
  {
   "cell_type": "code",
   "execution_count": 4,
   "metadata": {},
   "outputs": [
    {
     "data": {
      "text/plain": [
       "['Сorridors: Part Before (Talisman (Artefact) Book 1)',\n",
       " '10 Habits of Highly Effective People',\n",
       " '10 Minute Herbal Recipes for Weight Loss and Beauty: Quick and Easy Meals to Make You Look and Feel Better',\n",
       " '12 Days at Bleakly Manor (Once Upon a Dickens Christmas Book 1)',\n",
       " '12 Days to Love',\n",
       " '131 Creative Conversations For Families (131 Creative Conversations Book 2)',\n",
       " '1931 (The 1929 Series Book 6)',\n",
       " '1964 (Made In Yorkshire Saga Book 1)',\n",
       " '2024',\n",
       " '21 Hours']"
      ]
     },
     "execution_count": 4,
     "metadata": {},
     "output_type": "execute_result"
    }
   ],
   "source": [
    "titles[:10]"
   ]
  },
  {
   "cell_type": "code",
   "execution_count": 5,
   "metadata": {},
   "outputs": [],
   "source": [
    "VALID_CHARS = string.ascii_lowercase + ' 0123456789'\n",
    "VALID_CHAR_SET = set(VALID_CHARS)"
   ]
  },
  {
   "cell_type": "code",
   "execution_count": 6,
   "metadata": {},
   "outputs": [
    {
     "data": {
      "text/plain": [
       "['orridors part before talisman artefact book 1',\n",
       " '10 habits of highly effective people',\n",
       " '10 minute herbal recipes for weight loss and beauty quick and easy meals to make you look and feel better',\n",
       " '12 days at bleakly manor once upon a dickens christmas book 1',\n",
       " '12 days to love',\n",
       " '131 creative conversations for families 131 creative conversations book 2',\n",
       " '1931 the 1929 series book 6',\n",
       " '1964 made in yorkshire saga book 1',\n",
       " '2024',\n",
       " '21 hours']"
      ]
     },
     "execution_count": 6,
     "metadata": {},
     "output_type": "execute_result"
    }
   ],
   "source": [
    "valid_titles = [''.join([c for c in title.lower() if c in VALID_CHAR_SET])\n",
    "                for title in titles]\n",
    "valid_titles[:10]"
   ]
  },
  {
   "cell_type": "markdown",
   "metadata": {},
   "source": [
    "## Titles"
   ]
  },
  {
   "cell_type": "code",
   "execution_count": 7,
   "metadata": {},
   "outputs": [],
   "source": [
    "lengths = list(map(len, valid_titles))\n",
    "min_length = min(lengths)\n",
    "max_length = max(lengths)"
   ]
  },
  {
   "cell_type": "code",
   "execution_count": 8,
   "metadata": {},
   "outputs": [
    {
     "data": {
      "text/plain": [
       "(2, ['zo'])"
      ]
     },
     "execution_count": 8,
     "metadata": {},
     "output_type": "execute_result"
    }
   ],
   "source": [
    "mins = [title for title in valid_titles if len(title) == min_length]\n",
    "min_length, mins"
   ]
  },
  {
   "cell_type": "code",
   "execution_count": 9,
   "metadata": {},
   "outputs": [
    {
     "data": {
      "text/plain": [
       "(209,\n",
       " ['therapeutic yoga efficient yoga sets at pain in the back and for the development of spine elasticity mindfulness therapy healthy living yoga sutras yoga poses teaching yoga benefits of yoga the yoga place book'])"
      ]
     },
     "execution_count": 9,
     "metadata": {},
     "output_type": "execute_result"
    }
   ],
   "source": [
    "maxs = [title for title in valid_titles if len(title) == max_length]\n",
    "max_length, maxs"
   ]
  },
  {
   "cell_type": "code",
   "execution_count": 10,
   "metadata": {},
   "outputs": [
    {
     "data": {
      "image/png": "[encoded data removed]",
      "text/plain": [
       "<Figure size 864x518.4 with 1 Axes>"
      ]
     },
     "metadata": {
      "needs_background": "light"
     },
     "output_type": "display_data"
    }
   ],
   "source": [
    "plt.figure(figsize=(12, 7.2))\n",
    "plt.hist(lengths, bins=max_length - min_length + 1)\n",
    "plt.show()"
   ]
  },
  {
   "cell_type": "code",
   "execution_count": 11,
   "metadata": {},
   "outputs": [
    {
     "name": "stdout",
     "output_type": "stream",
     "text": [
      "<= 128: 6386 (99.9%)\n"
     ]
    },
    {
     "data": {
      "image/png": "[encoded data removed]",
      "text/plain": [
       "<Figure size 864x518.4 with 1 Axes>"
      ]
     },
     "metadata": {
      "needs_background": "light"
     },
     "output_type": "display_data"
    }
   ],
   "source": [
    "lengths_128 = [length for length in lengths if length <= 128]\n",
    "print('<= 128: {:d} ({:.1%})'.format(len(lengths_128), len(lengths_128) / len(lengths)))\n",
    "plt.figure(figsize=(12, 7.2))\n",
    "plt.hist(lengths_128, bins=128 - min_length + 1)\n",
    "plt.show()"
   ]
  },
  {
   "cell_type": "code",
   "execution_count": 12,
   "metadata": {},
   "outputs": [
    {
     "name": "stdout",
     "output_type": "stream",
     "text": [
      "<= 64: 5830 (91.2%)\n"
     ]
    },
    {
     "data": {
      "image/png": "[encoded data removed]",
      "text/plain": [
       "<Figure size 864x518.4 with 1 Axes>"
      ]
     },
     "metadata": {
      "needs_background": "light"
     },
     "output_type": "display_data"
    }
   ],
   "source": [
    "lengths_64 = [length for length in lengths if length <= 64]\n",
    "print('<= 64: {:d} ({:.1%})'.format(len(lengths_64), len(lengths_64) / len(lengths)))\n",
    "plt.figure(figsize=(12, 7.2))\n",
    "plt.hist(lengths_64, bins=64 - min_length + 1)\n",
    "plt.show()"
   ]
  },
  {
   "cell_type": "markdown",
   "metadata": {},
   "source": [
    "## Characters"
   ]
  },
  {
   "cell_type": "code",
   "execution_count": 13,
   "metadata": {},
   "outputs": [
    {
     "data": {
      "text/plain": [
       "37"
      ]
     },
     "execution_count": 13,
     "metadata": {},
     "output_type": "execute_result"
    }
   ],
   "source": [
    "char_to_count = dict()\n",
    "for title in valid_titles:\n",
    "    for c in title:\n",
    "        if c not in char_to_count:\n",
    "            char_to_count[c] = 1\n",
    "        else:\n",
    "            char_to_count[c] += 1\n",
    "len(char_to_count)"
   ]
  },
  {
   "cell_type": "code",
   "execution_count": 14,
   "metadata": {},
   "outputs": [
    {
     "data": {
      "text/plain": [
       "15546"
      ]
     },
     "execution_count": 14,
     "metadata": {},
     "output_type": "execute_result"
    }
   ],
   "source": [
    "char_to_count['a']"
   ]
  },
  {
   "cell_type": "code",
   "execution_count": 15,
   "metadata": {},
   "outputs": [
    {
     "data": {
      "text/plain": [
       "[(' ', 38849),\n",
       " ('e', 25325),\n",
       " ('o', 21877),\n",
       " ('a', 15546),\n",
       " ('r', 14719),\n",
       " ('t', 14648),\n",
       " ('s', 13601),\n",
       " ('i', 13095),\n",
       " ('n', 12676),\n",
       " ('l', 9625)]"
      ]
     },
     "execution_count": 15,
     "metadata": {},
     "output_type": "execute_result"
    }
   ],
   "source": [
    "char_counts = sorted(list(char_to_count.items()),\n",
    "                     key=lambda char_count: char_count[1],\n",
    "                     reverse=True)\n",
    "char_counts[:10]"
   ]
  },
  {
   "cell_type": "code",
   "execution_count": 16,
   "metadata": {},
   "outputs": [
    {
     "data": {
      "image/png": "[encoded data removed]",
      "text/plain": [
       "<Figure size 864x432 with 1 Axes>"
      ]
     },
     "metadata": {
      "needs_background": "light"
     },
     "output_type": "display_data"
    }
   ],
   "source": [
    "plt.figure(figsize=(12, 6))\n",
    "plt.plot(np.arange(len(char_counts)), list(zip(*char_counts))[1])\n",
    "plt.show()"
   ]
  },
  {
   "cell_type": "code",
   "execution_count": null,
   "metadata": {},
   "outputs": [],
   "source": []
  }
 ],
 "metadata": {
  "kernelspec": {
   "display_name": "Python 3",
   "language": "python",
   "name": "python3"
  },
  "language_info": {
   "codemirror_mode": {
    "name": "ipython",
    "version": 3
   },
   "file_extension": ".py",
   "mimetype": "text/x-python",
   "name": "python",
   "nbconvert_exporter": "python",
   "pygments_lexer": "ipython3",
   "version": "3.7.4"
  }
 },
 "nbformat": 4,
 "nbformat_minor": 2
}
