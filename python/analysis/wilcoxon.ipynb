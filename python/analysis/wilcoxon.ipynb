{
 "cells": [
  {
   "cell_type": "code",
   "execution_count": null,
   "metadata": {},
   "outputs": [],
   "source": [
    "%cd ../.."
   ]
  },
  {
   "cell_type": "markdown",
   "metadata": {},
   "source": [
    "# wilcoxon"
   ]
  },
  {
   "cell_type": "code",
   "execution_count": null,
   "metadata": {},
   "outputs": [],
   "source": [
    "import os\n",
    "\n",
    "import numpy as np\n",
    "from scipy.stats import wilcoxon \n",
    "\n",
    "from python import folders"
   ]
  },
  {
   "cell_type": "code",
   "execution_count": null,
   "metadata": {},
   "outputs": [],
   "source": [
    "def read_csv(path, sep='\\t', dtype=int):\n",
    "    with open(path) as fd:\n",
    "        header_line = fd.readline()[:-1]\n",
    "        headers = header_line.split(sep)\n",
    "        rows = []\n",
    "        line = fd.readline()[:-1]\n",
    "        while len(line) > 0:\n",
    "            rows.append([dtype(item) for item in line.split(sep)])\n",
    "            line = fd.readline()[:-1]\n",
    "    return headers, np.array(rows).transpose()"
   ]
  },
  {
   "cell_type": "code",
   "execution_count": null,
   "metadata": {},
   "outputs": [],
   "source": [
    "os.listdir(folders.PREDICTIONS_PATH)"
   ]
  },
  {
   "cell_type": "code",
   "execution_count": null,
   "metadata": {},
   "outputs": [],
   "source": [
    "baselines_path = os.path.join(folders.PREDICTIONS_PATH, 'baselines')\n",
    "baselines_fnames = sorted(os.listdir(baselines_path))\n",
    "baselines_fnames"
   ]
  },
  {
   "cell_type": "code",
   "execution_count": null,
   "metadata": {},
   "outputs": [],
   "source": [
    "svm_path = os.path.join(baselines_path, 'svm')\n",
    "svm_fnames = sorted(os.listdir(svm_path))\n",
    "svm_fnames"
   ]
  },
  {
   "cell_type": "code",
   "execution_count": null,
   "metadata": {},
   "outputs": [],
   "source": [
    "svm_pred_path = os.path.join(svm_path, '1569008495.txt')\n",
    "svm_headers, svm_predictions = read_csv(svm_pred_path)\n",
    "svm_predictions.shape"
   ]
  },
  {
   "cell_type": "code",
   "execution_count": null,
   "metadata": {},
   "outputs": [],
   "source": [
    "book_net_path = os.path.join(folders.PREDICTIONS_PATH, 'book_net')\n",
    "book_net_fnames = sorted(os.listdir(book_net_path))\n",
    "book_net_fnames"
   ]
  },
  {
   "cell_type": "code",
   "execution_count": null,
   "metadata": {},
   "outputs": [],
   "source": [
    "book_net_pred_path = os.path.join(book_net_path, '32634572.txt')\n",
    "book_net_headers, book_net_predictions = read_csv(book_net_pred_path)\n",
    "book_net_predictions.shape"
   ]
  },
  {
   "cell_type": "code",
   "execution_count": null,
   "metadata": {},
   "outputs": [],
   "source": [
    "svm_headers[:2]"
   ]
  },
  {
   "cell_type": "code",
   "execution_count": null,
   "metadata": {},
   "outputs": [],
   "source": [
    "for i in range(len(svm_headers)//2):\n",
    "    print(svm_headers[2*i + 1])\n",
    "    print('wilcoxon: {}'.format(wilcoxon(svm_predictions[2*i + 1], book_net_predictions[2*i + 1])))"
   ]
  },
  {
   "cell_type": "code",
   "execution_count": null,
   "metadata": {},
   "outputs": [],
   "source": []
  }
 ],
 "metadata": {
  "kernelspec": {
   "display_name": "Python 3",
   "language": "python",
   "name": "python3"
  },
  "language_info": {
   "codemirror_mode": {
    "name": "ipython",
    "version": 3
   },
   "file_extension": ".py",
   "mimetype": "text/x-python",
   "name": "python",
   "nbconvert_exporter": "python",
   "pygments_lexer": "ipython3",
   "version": "3.7.4"
  }
 },
 "nbformat": 4,
 "nbformat_minor": 2
}
