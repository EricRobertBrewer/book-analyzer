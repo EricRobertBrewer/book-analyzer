{
 "cells": [
  {
   "cell_type": "markdown",
   "metadata": {
    "colab_type": "text",
    "id": "ZXO03k1LUrKH"
   },
   "source": [
    "# BookCave\n",
    "\n",
    "[General FAQ](https://mybookcave.com/reader-faq/)\n",
    "\n",
    "[BookCave rating system](https://mybookcave.com/reader-faq/what-makes-a-book-earn-a-particular-content-rating/)"
   ]
  },
  {
   "cell_type": "markdown",
   "metadata": {
    "colab_type": "text",
    "id": "ojsPvSnfUOR1"
   },
   "source": [
    "## Setup"
   ]
  },
  {
   "cell_type": "code",
   "execution_count": null,
   "metadata": {
    "colab": {
     "base_uri": "https://localhost:8080/",
     "height": 34
    },
    "colab_type": "code",
    "id": "p1eCFnrtUrKJ",
    "outputId": "bafaad85-1546-47bf-8d86-a28a1c28babc"
   },
   "outputs": [],
   "source": [
    "# Data.\n",
    "import bookcave\n",
    "# Math.\n",
    "import numpy as np\n",
    "# File I/O.\n",
    "import os\n",
    "# Visualization.\n",
    "import matplotlib.pyplot as plt"
   ]
  },
  {
   "cell_type": "markdown",
   "metadata": {},
   "source": [
    "Declare file path constants."
   ]
  },
  {
   "cell_type": "code",
   "execution_count": null,
   "metadata": {},
   "outputs": [],
   "source": [
    "FIGURES_ROOT = os.path.join('..', 'figures')\n",
    "try:\n",
    "    os.mkdir(FIGURES_ROOT)\n",
    "except FileExistsError:\n",
    "    pass"
   ]
  },
  {
   "cell_type": "markdown",
   "metadata": {},
   "source": [
    "Read all of the data and metadata from the BookCave database."
   ]
  },
  {
   "cell_type": "code",
   "execution_count": null,
   "metadata": {
    "colab": {},
    "colab_type": "code",
    "id": "S1r_1jfKUrKN"
   },
   "outputs": [],
   "source": [
    "texts, y, categories, levels, all_books_df, rated_books_df, books_df, ratings_df, levels_df, categories_df = bookcave.get_data(return_meta=True)"
   ]
  },
  {
   "cell_type": "markdown",
   "metadata": {},
   "source": [
    "Index book IDs to use later."
   ]
  },
  {
   "cell_type": "code",
   "execution_count": null,
   "metadata": {},
   "outputs": [],
   "source": [
    "book_ids = np.array([book_row['id'] for _, book_row in books_df.iterrows()])\n",
    "book_id_to_index = {book_id: i for i, book_id in enumerate(book_ids)}"
   ]
  },
  {
   "cell_type": "markdown",
   "metadata": {},
   "source": [
    "Plot label distributions."
   ]
  },
  {
   "cell_type": "code",
   "execution_count": null,
   "metadata": {},
   "outputs": [],
   "source": [
    "def autolabel(ax, bars, text_color):\n",
    "    heights = [bar.get_height() for bar in bars]\n",
    "    max_height = max(heights)\n",
    "    for i, bar in enumerate(bars):\n",
    "        height = heights[i]\n",
    "        is_max = height == max_height\n",
    "        ax.text(bar.get_x() + bar.get_width()/2.,\n",
    "                height - .05 * max_height if is_max else height + .05 * max_height,\n",
    "                '{}'.format(int(height)),\n",
    "                ha='center',\n",
    "                va='top' if is_max else 'bottom',\n",
    "                color=text_color if is_max else 'k')\n",
    "\n",
    "\n",
    "def plot_label_distribution(x, labels, title, ylabel, color, text_color, save=None, size=None):\n",
    "    bincount = np.bincount(labels)\n",
    "    fig, ax = plt.subplots()\n",
    "    if size:\n",
    "        fig.set_size_inches(*size)\n",
    "    bars = ax.bar(x, bincount, color=color)\n",
    "    ax.set_title(title)\n",
    "    ax.set_ylabel(ylabel)\n",
    "    ax.set_xticklabels(x, rotation=45, ha='right')\n",
    "    autolabel(ax, bars, text_color)\n",
    "    if save:\n",
    "        plt.savefig(save, bbox_inches='tight')\n",
    "    plt.show()\n",
    "\n",
    "\n",
    "def print_label_distribution(x, labels):\n",
    "    longest_name = max(len(name) for name in x)\n",
    "    bincount = np.bincount(labels)\n",
    "    for index, name in enumerate(x):\n",
    "        spaces = ' ' * (longest_name - len(name))\n",
    "        p = bincount[index]/len(labels)\n",
    "        tens_digit_space = ' ' if p < .1 else ''\n",
    "        print('{}`{}`: {}{:.3%}'.format(spaces, name, tens_digit_space, p))"
   ]
  },
  {
   "cell_type": "markdown",
   "metadata": {},
   "source": [
    "Plot distribution of overall (average) ratings for books."
   ]
  },
  {
   "cell_type": "code",
   "execution_count": null,
   "metadata": {},
   "outputs": [],
   "source": [
    "ratings = ['All Ages', 'Mild', 'Mild+', 'Moderate', 'Moderate+', 'Adult', 'Adult+']\n",
    "rating_to_index = {rating: i for i, rating in enumerate(ratings)}\n",
    "rating_colors = ['royalblue', 'mediumseagreen', 'darkseagreen', 'yellowgreen', 'yellow', 'orange', 'orangered']\n",
    "# rating_text_colors = ['w', 'w', 'k', 'k', 'k', 'k', 'w']\n",
    "\n",
    "\n",
    "def plot_and_print_average_ratings_distribution(books_df):\n",
    "    average_ratings = books_df['community_average_rating']\n",
    "    # Transform string label to integer.\n",
    "    labels = [rating_to_index[rating] for rating in average_ratings]\n",
    "    title = 'Average Ratings'\n",
    "    ylabel = '# of books'\n",
    "    color = rating_colors\n",
    "    text_color = 'k'\n",
    "    plot_label_distribution(ratings, labels, title, ylabel, color, text_color)\n",
    "    print_label_distribution(ratings, labels)"
   ]
  },
  {
   "cell_type": "markdown",
   "metadata": {
    "colab_type": "text",
    "id": "oCrhLHgtUrKP"
   },
   "source": [
    "### Books"
   ]
  },
  {
   "cell_type": "markdown",
   "metadata": {
    "colab": {
     "base_uri": "https://localhost:8080/",
     "height": 34
    },
    "colab_type": "code",
    "id": "FP9josNBUrKR",
    "outputId": "f75d63a3-007b-4ed9-cdd4-7238305cb045"
   },
   "source": [
    "Count the total number of books in the database."
   ]
  },
  {
   "cell_type": "code",
   "execution_count": null,
   "metadata": {
    "colab": {
     "base_uri": "https://localhost:8080/",
     "height": 34
    },
    "colab_type": "code",
    "id": "FP9josNBUrKR",
    "outputId": "f75d63a3-007b-4ed9-cdd4-7238305cb045"
   },
   "outputs": [],
   "source": [
    "len(all_books_df)"
   ]
  },
  {
   "cell_type": "markdown",
   "metadata": {},
   "source": [
    "Count the number of books which have at least one rating."
   ]
  },
  {
   "cell_type": "code",
   "execution_count": null,
   "metadata": {},
   "outputs": [],
   "source": [
    "len(rated_books_df)"
   ]
  },
  {
   "cell_type": "markdown",
   "metadata": {
    "colab": {
     "base_uri": "https://localhost:8080/",
     "height": 434
    },
    "colab_type": "code",
    "id": "ZlQzsaCNUrKV",
    "outputId": "264dd351-0e20-4be9-825e-9d486c15ab72"
   },
   "source": [
    "See some samples of book data."
   ]
  },
  {
   "cell_type": "code",
   "execution_count": null,
   "metadata": {
    "colab": {
     "base_uri": "https://localhost:8080/",
     "height": 434
    },
    "colab_type": "code",
    "id": "ZlQzsaCNUrKV",
    "outputId": "264dd351-0e20-4be9-825e-9d486c15ab72"
   },
   "outputs": [],
   "source": [
    "rated_books_df.head(3)"
   ]
  },
  {
   "cell_type": "markdown",
   "metadata": {
    "colab": {
     "base_uri": "https://localhost:8080/",
     "height": 374
    },
    "colab_type": "code",
    "id": "YoVTEMvzUrKY",
    "outputId": "815658a5-c1cd-41a0-fe2e-b95fce160e8e"
   },
   "source": [
    "View the distribution of vendors who offer each book."
   ]
  },
  {
   "cell_type": "code",
   "execution_count": null,
   "metadata": {
    "colab": {
     "base_uri": "https://localhost:8080/",
     "height": 374
    },
    "colab_type": "code",
    "id": "YoVTEMvzUrKY",
    "outputId": "815658a5-c1cd-41a0-fe2e-b95fce160e8e"
   },
   "outputs": [],
   "source": [
    "rated_books_df.count()"
   ]
  },
  {
   "cell_type": "markdown",
   "metadata": {},
   "source": [
    "Calculate percentage of books available through Amazon Kindle."
   ]
  },
  {
   "cell_type": "code",
   "execution_count": null,
   "metadata": {
    "colab": {
     "base_uri": "https://localhost:8080/",
     "height": 34
    },
    "colab_type": "code",
    "id": "58zKxRVoUrKb",
    "outputId": "8b1b42ec-f46f-4994-ca1d-9c9da84a0980"
   },
   "outputs": [],
   "source": [
    "num_kindle = len(rated_books_df[rated_books_df['amazon_kindle_url'].notnull()])\n",
    "'{:.3%} of rated books ({:d}/{:d}) are available on Amazon Kindle.'.format(num_kindle / len(rated_books_df), num_kindle, len(rated_books_df))"
   ]
  },
  {
   "cell_type": "markdown",
   "metadata": {},
   "source": [
    "Plot distribution of overall (average) ratings for rated books."
   ]
  },
  {
   "cell_type": "code",
   "execution_count": null,
   "metadata": {},
   "outputs": [],
   "source": [
    "plot_and_print_average_ratings_distribution(rated_books_df)"
   ]
  },
  {
   "cell_type": "markdown",
   "metadata": {},
   "source": [
    "Analyze distribution of genres."
   ]
  },
  {
   "cell_type": "code",
   "execution_count": null,
   "metadata": {},
   "outputs": [],
   "source": [
    "book_genre_values = books_df['genres'].dropna().values\n",
    "book_genres = [value.split('|') for value in book_genre_values]\n",
    "book_genre_hierarchies = [[genre.split('/') for genre in genres] for genres in book_genres]"
   ]
  },
  {
   "cell_type": "code",
   "execution_count": null,
   "metadata": {},
   "outputs": [],
   "source": [
    "root_genres = ['Juvenile Fiction', 'Young Adult Fiction', 'Fiction', 'Juvenile Nonfiction', 'Young Adult Nonfiction', 'Nonfiction']\n",
    "root_genre_to_index = {root_genre: i for i, root_genre in enumerate(root_genres)}\n",
    "root_genre_y = []\n",
    "for i, book_genre_hierarchy in enumerate(book_genre_hierarchies):\n",
    "    for hierarchy in book_genre_hierarchy:\n",
    "        root_genre_y.append(root_genre_to_index[hierarchy[0]])"
   ]
  },
  {
   "cell_type": "code",
   "execution_count": null,
   "metadata": {},
   "outputs": [],
   "source": [
    "plot_label_distribution(root_genres, root_genre_y, 'Genres', '# of books', 'olive', 'w')"
   ]
  },
  {
   "cell_type": "markdown",
   "metadata": {},
   "source": [
    "Plot distribution of all genres under `Fiction`."
   ]
  },
  {
   "cell_type": "code",
   "execution_count": null,
   "metadata": {},
   "outputs": [],
   "source": [
    "fiction_genres_set = set()\n",
    "fiction_genre_values = []\n",
    "for book_genre_hierarchy in book_genre_hierarchies:\n",
    "    for hierarchy in book_genre_hierarchy:\n",
    "        if hierarchy[0] != 'Fiction':\n",
    "            continue\n",
    "        sub_genre = hierarchy[1] if len(hierarchy) > 1 else '_'\n",
    "        fiction_genres_set.add(sub_genre)\n",
    "        fiction_genre_values.append(sub_genre)\n",
    "fiction_genres = sorted(list(fiction_genres_set))\n",
    "fiction_genre_to_index = {genre: i for i, genre in enumerate(fiction_genres)}\n",
    "fiction_genre_y = [fiction_genre_to_index[value] for value in fiction_genre_values]"
   ]
  },
  {
   "cell_type": "code",
   "execution_count": null,
   "metadata": {},
   "outputs": [],
   "source": [
    "plot_label_distribution(fiction_genres, fiction_genre_y, 'Fiction', '# of books', 'violet', 'k', size=(14, 7))"
   ]
  },
  {
   "cell_type": "markdown",
   "metadata": {
    "colab_type": "text",
    "id": "1e284j8_UrKv"
   },
   "source": [
    "### (Rating) Levels"
   ]
  },
  {
   "cell_type": "markdown",
   "metadata": {},
   "source": [
    "Count the total number of rating levels (which belong to categories) given to books."
   ]
  },
  {
   "cell_type": "code",
   "execution_count": null,
   "metadata": {
    "colab": {
     "base_uri": "https://localhost:8080/",
     "height": 34
    },
    "colab_type": "code",
    "id": "0xIj6ClEUrKw",
    "outputId": "c5364ed7-4032-4bc8-884b-9e8d4b3bb49d"
   },
   "outputs": [],
   "source": [
    "len(levels_df)"
   ]
  },
  {
   "cell_type": "markdown",
   "metadata": {},
   "source": [
    "See some examples of rating levels."
   ]
  },
  {
   "cell_type": "code",
   "execution_count": null,
   "metadata": {
    "colab": {
     "base_uri": "https://localhost:8080/",
     "height": 204
    },
    "colab_type": "code",
    "id": "EcVK_MyVUrKz",
    "outputId": "f0139d4c-c325-4dcf-95a8-6fa912834871"
   },
   "outputs": [],
   "source": [
    "levels_df.head()"
   ]
  },
  {
   "cell_type": "markdown",
   "metadata": {},
   "source": [
    "### Categories"
   ]
  },
  {
   "cell_type": "markdown",
   "metadata": {},
   "source": [
    "Many levels are mutually exclusive for a particular book. They are grouped into content 'categories'."
   ]
  },
  {
   "cell_type": "code",
   "execution_count": null,
   "metadata": {},
   "outputs": [],
   "source": [
    "len(categories_df)"
   ]
  },
  {
   "cell_type": "markdown",
   "metadata": {},
   "source": [
    "See examples of categorized rating levels."
   ]
  },
  {
   "cell_type": "code",
   "execution_count": null,
   "metadata": {},
   "outputs": [],
   "source": [
    "categories_df.head(9)"
   ]
  },
  {
   "cell_type": "markdown",
   "metadata": {},
   "source": [
    "View the list of unique category names."
   ]
  },
  {
   "cell_type": "code",
   "execution_count": null,
   "metadata": {},
   "outputs": [],
   "source": [
    "categories"
   ]
  },
  {
   "cell_type": "markdown",
   "metadata": {
    "colab_type": "text",
    "id": "VDQ_57oFUrLI"
   },
   "source": [
    "## Features"
   ]
  },
  {
   "cell_type": "markdown",
   "metadata": {},
   "source": [
    "### Text"
   ]
  },
  {
   "cell_type": "markdown",
   "metadata": {},
   "source": [
    "Count how many Kindle texts exist for books with at least one rating and have text."
   ]
  },
  {
   "cell_type": "code",
   "execution_count": null,
   "metadata": {},
   "outputs": [],
   "source": [
    "len(books_df)"
   ]
  },
  {
   "cell_type": "markdown",
   "metadata": {},
   "source": [
    "See a sample of text."
   ]
  },
  {
   "cell_type": "code",
   "execution_count": null,
   "metadata": {},
   "outputs": [],
   "source": [
    "texts[book_id_to_index['gate-76']][:200]"
   ]
  },
  {
   "cell_type": "markdown",
   "metadata": {},
   "source": [
    "View the distribution of overall (average) ratings for books with text."
   ]
  },
  {
   "cell_type": "code",
   "execution_count": null,
   "metadata": {},
   "outputs": [],
   "source": [
    "plot_and_print_average_ratings_distribution(books_df)"
   ]
  },
  {
   "cell_type": "markdown",
   "metadata": {},
   "source": [
    "What does the file-length distribution look like?"
   ]
  },
  {
   "cell_type": "code",
   "execution_count": null,
   "metadata": {},
   "outputs": [],
   "source": [
    "text_lengths = [len(text) for text in texts]"
   ]
  },
  {
   "cell_type": "code",
   "execution_count": null,
   "metadata": {},
   "outputs": [],
   "source": [
    "plt.hist(text_lengths, 60, density=True)\n",
    "plt.show()"
   ]
  },
  {
   "cell_type": "markdown",
   "metadata": {},
   "source": [
    "View the distribution of number of lines for text files."
   ]
  },
  {
   "cell_type": "code",
   "execution_count": null,
   "metadata": {},
   "outputs": [],
   "source": [
    "text_lines = bookcave.get_text_lines(texts)\n",
    "text_line_lengths = [len(lines) for lines in text_lines]"
   ]
  },
  {
   "cell_type": "code",
   "execution_count": null,
   "metadata": {},
   "outputs": [],
   "source": [
    "plt.hist(text_line_lengths, 40, density=True)\n",
    "plt.show()"
   ]
  },
  {
   "cell_type": "markdown",
   "metadata": {},
   "source": [
    "View book titles with little text."
   ]
  },
  {
   "cell_type": "code",
   "execution_count": null,
   "metadata": {},
   "outputs": [],
   "source": [
    "[(book_ids[i], len(text)) for i, text in enumerate(texts) if len(text) < 15000]"
   ]
  },
  {
   "cell_type": "markdown",
   "metadata": {
    "colab_type": "text",
    "id": "xBqys65XU6YN"
   },
   "source": [
    "### Labels"
   ]
  },
  {
   "cell_type": "markdown",
   "metadata": {
    "colab": {
     "base_uri": "https://localhost:8080/",
     "height": 545
    },
    "colab_type": "code",
    "id": "JNxFRFb5UrLL",
    "outputId": "abf1347e-18a1-434e-c118-83685bebc278"
   },
   "source": [
    "See an example of book rating levels."
   ]
  },
  {
   "cell_type": "code",
   "execution_count": null,
   "metadata": {
    "colab": {
     "base_uri": "https://localhost:8080/",
     "height": 545
    },
    "colab_type": "code",
    "id": "JNxFRFb5UrLL",
    "outputId": "abf1347e-18a1-434e-c118-83685bebc278"
   },
   "outputs": [],
   "source": [
    "levels_df[levels_df['book_id'] == 'gate-76']"
   ]
  },
  {
   "cell_type": "markdown",
   "metadata": {
    "colab": {
     "base_uri": "https://localhost:8080/",
     "height": 68
    },
    "colab_type": "code",
    "id": "XGGO3XGaUrLO",
    "outputId": "8318f9a5-4a3d-4fe2-dc62-0e8f99f886cb"
   },
   "source": [
    "See how these rating levels are now represented as a vector of average rating levels per category."
   ]
  },
  {
   "cell_type": "code",
   "execution_count": null,
   "metadata": {},
   "outputs": [],
   "source": [
    "y[book_id_to_index['gate-76']]"
   ]
  },
  {
   "cell_type": "markdown",
   "metadata": {},
   "source": [
    "Plot the label distribution for each category."
   ]
  },
  {
   "cell_type": "code",
   "execution_count": null,
   "metadata": {},
   "outputs": [],
   "source": [
    "category_colors = ['blue', 'green', 'pink', 'cyan', 'magenta', 'yellow', 'orange', 'red']\n",
    "category_text_colors = ['w', 'w', 'k', 'k', 'k', 'k', 'k', 'w']\n",
    "\n",
    "        \n",
    "def plot_and_print_label_distributions():\n",
    "    for category_index, category in enumerate(categories):\n",
    "        x = levels[category_index]\n",
    "        labels = y[:, category_index]\n",
    "        title = category\n",
    "        ylabel = '# of occurrences'\n",
    "        color = category_colors[category_index]\n",
    "        text_color = category_text_colors[category_index]\n",
    "        save = os.path.join(FIGURES_ROOT, 'kindle_label_dist_{}_{}.png'.format(category_index + 1, category))\n",
    "        plot_label_distribution(x, labels, title, ylabel, color, text_color, save=save)\n",
    "        print_label_distribution(x, labels)\n",
    "\n",
    "\n",
    "plot_and_print_label_distributions()"
   ]
  },
  {
   "cell_type": "code",
   "execution_count": null,
   "metadata": {},
   "outputs": [],
   "source": []
  }
 ],
 "metadata": {
  "colab": {
   "name": "bookcave.ipynb",
   "provenance": [],
   "toc_visible": true,
   "version": "0.3.2"
  },
  "kernelspec": {
   "display_name": "Python 3",
   "language": "python",
   "name": "python3"
  },
  "language_info": {
   "codemirror_mode": {
    "name": "ipython",
    "version": 3
   },
   "file_extension": ".py",
   "mimetype": "text/x-python",
   "name": "python",
   "nbconvert_exporter": "python",
   "pygments_lexer": "ipython3",
   "version": "3.6.5"
  }
 },
 "nbformat": 4,
 "nbformat_minor": 1
}
