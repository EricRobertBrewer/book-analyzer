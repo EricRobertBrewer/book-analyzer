{
 "cells": [
  {
   "cell_type": "markdown",
   "metadata": {
    "colab_type": "text",
    "id": "ZXO03k1LUrKH"
   },
   "source": [
    "# BookCave\n",
    "\n",
    "[General FAQ](https://mybookcave.com/reader-faq/)\n",
    "\n",
    "[BookCave rating system](https://mybookcave.com/reader-faq/what-makes-a-book-earn-a-particular-content-rating/)"
   ]
  },
  {
   "cell_type": "markdown",
   "metadata": {
    "colab_type": "text",
    "id": "ojsPvSnfUOR1"
   },
   "source": [
    "## Setup"
   ]
  },
  {
   "cell_type": "code",
   "execution_count": null,
   "metadata": {
    "colab": {
     "base_uri": "https://localhost:8080/",
     "height": 34
    },
    "colab_type": "code",
    "id": "p1eCFnrtUrKJ",
    "outputId": "bafaad85-1546-47bf-8d86-a28a1c28babc"
   },
   "outputs": [],
   "source": [
    "# Data manipulation.\n",
    "import sqlite3\n",
    "import pandas as pd\n",
    "# File I/O.\n",
    "import os\n",
    "import sys\n",
    "# Math.\n",
    "import numpy as np\n",
    "# Time management.\n",
    "import tqdm\n",
    "# Visualization.\n",
    "import matplotlib.pyplot as plt"
   ]
  },
  {
   "cell_type": "markdown",
   "metadata": {},
   "source": [
    "Declare file path constants."
   ]
  },
  {
   "cell_type": "code",
   "execution_count": null,
   "metadata": {},
   "outputs": [],
   "source": [
    "EMBEDDINGS_ROOT = os.path.join('..', '..', 'embeddings')\n",
    "# GLOVE_300 = os.path.join(EMBEDDINGS_ROOT, 'glove.6B.300d.txt')\n",
    "CONTENT_ROOT = os.path.join('..', 'content')\n",
    "BOOKCAVE_ROOT = os.path.join(CONTENT_ROOT, 'bookcave')\n",
    "BOOKCAVE_AMAZON_ROOT = os.path.join(CONTENT_ROOT, 'bookcave_amazon')\n",
    "FIGURES_ROOT = os.path.join('..', 'figures')\n",
    "try:\n",
    "    os.mkdir(FIGURES_ROOT)\n",
    "except FileExistsError:\n",
    "    pass"
   ]
  },
  {
   "cell_type": "markdown",
   "metadata": {},
   "source": [
    "Pull all of the data from the BookCave database."
   ]
  },
  {
   "cell_type": "code",
   "execution_count": null,
   "metadata": {
    "colab": {},
    "colab_type": "code",
    "id": "S1r_1jfKUrKN"
   },
   "outputs": [],
   "source": [
    "conn = sqlite3.connect(os.path.join(BOOKCAVE_ROOT, 'contents.db'))\n",
    "all_books = pd.read_sql_query('SELECT * FROM Books;', conn)\n",
    "ratings = pd.read_sql_query('SELECT * FROM BookRatings;', conn)\n",
    "levels = pd.read_sql_query('SELECT * FROM BookRatingLevels;', conn)\n",
    "conn.close()"
   ]
  },
  {
   "cell_type": "markdown",
   "metadata": {
    "colab_type": "text",
    "id": "oCrhLHgtUrKP"
   },
   "source": [
    "### Books"
   ]
  },
  {
   "cell_type": "markdown",
   "metadata": {
    "colab": {
     "base_uri": "https://localhost:8080/",
     "height": 34
    },
    "colab_type": "code",
    "id": "FP9josNBUrKR",
    "outputId": "f75d63a3-007b-4ed9-cdd4-7238305cb045"
   },
   "source": [
    "Count the total number of books in the database."
   ]
  },
  {
   "cell_type": "code",
   "execution_count": null,
   "metadata": {
    "colab": {
     "base_uri": "https://localhost:8080/",
     "height": 34
    },
    "colab_type": "code",
    "id": "FP9josNBUrKR",
    "outputId": "f75d63a3-007b-4ed9-cdd4-7238305cb045"
   },
   "outputs": [],
   "source": [
    "len(all_books)"
   ]
  },
  {
   "cell_type": "markdown",
   "metadata": {},
   "source": [
    "Consider only books which have at least one rating."
   ]
  },
  {
   "cell_type": "code",
   "execution_count": null,
   "metadata": {},
   "outputs": [],
   "source": [
    "rated_books = all_books[all_books['community_ratings_count'] > 0]\n",
    "len(rated_books)"
   ]
  },
  {
   "cell_type": "markdown",
   "metadata": {
    "colab": {
     "base_uri": "https://localhost:8080/",
     "height": 434
    },
    "colab_type": "code",
    "id": "ZlQzsaCNUrKV",
    "outputId": "264dd351-0e20-4be9-825e-9d486c15ab72"
   },
   "source": [
    "See some samples of book data."
   ]
  },
  {
   "cell_type": "code",
   "execution_count": null,
   "metadata": {
    "colab": {
     "base_uri": "https://localhost:8080/",
     "height": 434
    },
    "colab_type": "code",
    "id": "ZlQzsaCNUrKV",
    "outputId": "264dd351-0e20-4be9-825e-9d486c15ab72"
   },
   "outputs": [],
   "source": [
    "rated_books.head(3)"
   ]
  },
  {
   "cell_type": "markdown",
   "metadata": {
    "colab": {
     "base_uri": "https://localhost:8080/",
     "height": 374
    },
    "colab_type": "code",
    "id": "YoVTEMvzUrKY",
    "outputId": "815658a5-c1cd-41a0-fe2e-b95fce160e8e"
   },
   "source": [
    "View the distribution of vendors who offer each book."
   ]
  },
  {
   "cell_type": "code",
   "execution_count": null,
   "metadata": {
    "colab": {
     "base_uri": "https://localhost:8080/",
     "height": 374
    },
    "colab_type": "code",
    "id": "YoVTEMvzUrKY",
    "outputId": "815658a5-c1cd-41a0-fe2e-b95fce160e8e"
   },
   "outputs": [],
   "source": [
    "rated_books.count()"
   ]
  },
  {
   "cell_type": "markdown",
   "metadata": {},
   "source": [
    "Calculate percentage of books whose previews are offered by Amazon."
   ]
  },
  {
   "cell_type": "code",
   "execution_count": null,
   "metadata": {
    "colab": {
     "base_uri": "https://localhost:8080/",
     "height": 34
    },
    "colab_type": "code",
    "id": "58zKxRVoUrKb",
    "outputId": "8b1b42ec-f46f-4994-ca1d-9c9da84a0980"
   },
   "outputs": [],
   "source": [
    "num_kindle = len(rated_books[rated_books['amazon_kindle_url'].notnull()])\n",
    "'{:.3%} of rated books ({:d}/{:d}) are available on Amazon Kindle.'.format(num_kindle / len(rated_books), num_kindle, len(rated_books))"
   ]
  },
  {
   "cell_type": "markdown",
   "metadata": {
    "colab_type": "text",
    "id": "8m258fmUUrKj"
   },
   "source": [
    "### Ratings"
   ]
  },
  {
   "cell_type": "markdown",
   "metadata": {},
   "source": [
    "Count the total number of ratings for books."
   ]
  },
  {
   "cell_type": "code",
   "execution_count": null,
   "metadata": {
    "colab": {
     "base_uri": "https://localhost:8080/",
     "height": 34
    },
    "colab_type": "code",
    "id": "x-AJfgfGUrKl",
    "outputId": "ea8a2193-8e9a-45c7-9b53-4dd52d315190"
   },
   "outputs": [],
   "source": [
    "len(ratings)"
   ]
  },
  {
   "cell_type": "markdown",
   "metadata": {},
   "source": [
    "See some examples of ratings data."
   ]
  },
  {
   "cell_type": "code",
   "execution_count": null,
   "metadata": {
    "colab": {
     "base_uri": "https://localhost:8080/",
     "height": 204
    },
    "colab_type": "code",
    "id": "RjnYWojIUrKn",
    "outputId": "e4121cf0-c2fe-4ef7-aa43-f149232214f4"
   },
   "outputs": [],
   "source": [
    "ratings.head()"
   ]
  },
  {
   "cell_type": "markdown",
   "metadata": {
    "colab_type": "text",
    "id": "1e284j8_UrKv"
   },
   "source": [
    "### (Rating) Levels"
   ]
  },
  {
   "cell_type": "markdown",
   "metadata": {},
   "source": [
    "Count the total number of rating levels (which belong to categories) given to books."
   ]
  },
  {
   "cell_type": "code",
   "execution_count": null,
   "metadata": {
    "colab": {
     "base_uri": "https://localhost:8080/",
     "height": 34
    },
    "colab_type": "code",
    "id": "0xIj6ClEUrKw",
    "outputId": "c5364ed7-4032-4bc8-884b-9e8d4b3bb49d"
   },
   "outputs": [],
   "source": [
    "len(levels)"
   ]
  },
  {
   "cell_type": "markdown",
   "metadata": {},
   "source": [
    "See some examples of rating levels."
   ]
  },
  {
   "cell_type": "code",
   "execution_count": null,
   "metadata": {
    "colab": {
     "base_uri": "https://localhost:8080/",
     "height": 204
    },
    "colab_type": "code",
    "id": "EcVK_MyVUrKz",
    "outputId": "f0139d4c-c325-4dcf-95a8-6fa912834871"
   },
   "outputs": [],
   "source": [
    "levels.head()"
   ]
  },
  {
   "cell_type": "markdown",
   "metadata": {
    "colab": {
     "base_uri": "https://localhost:8080/",
     "height": 34
    },
    "colab_type": "code",
    "id": "PcfrP30-UrK1",
    "outputId": "deed0534-caa1-4d70-e6c5-2b390cc7e68b"
   },
   "source": [
    "Check for invalid rows."
   ]
  },
  {
   "cell_type": "code",
   "execution_count": null,
   "metadata": {
    "colab": {
     "base_uri": "https://localhost:8080/",
     "height": 34
    },
    "colab_type": "code",
    "id": "PcfrP30-UrK1",
    "outputId": "deed0534-caa1-4d70-e6c5-2b390cc7e68b"
   },
   "outputs": [],
   "source": [
    "len(levels[levels['count'].isnull()])"
   ]
  },
  {
   "cell_type": "markdown",
   "metadata": {},
   "source": [
    "### Categories"
   ]
  },
  {
   "cell_type": "markdown",
   "metadata": {},
   "source": [
    "Many levels are mutually exclusive for a particular book. They are grouped into content 'categories'."
   ]
  },
  {
   "cell_type": "code",
   "execution_count": null,
   "metadata": {},
   "outputs": [],
   "source": [
    "categories = pd.read_csv(os.path.join(CONTENT_ROOT, 'bookcave', 'categories.tsv'), sep='\\t')\n",
    "len(categories)"
   ]
  },
  {
   "cell_type": "markdown",
   "metadata": {},
   "source": [
    "See examples of categorized rating levels."
   ]
  },
  {
   "cell_type": "code",
   "execution_count": null,
   "metadata": {},
   "outputs": [],
   "source": [
    "categories.head(9)"
   ]
  },
  {
   "cell_type": "markdown",
   "metadata": {},
   "source": [
    "Get the list of unique category names."
   ]
  },
  {
   "cell_type": "code",
   "execution_count": null,
   "metadata": {},
   "outputs": [],
   "source": [
    "category_names = categories['category'].unique()\n",
    "category_names"
   ]
  },
  {
   "cell_type": "markdown",
   "metadata": {},
   "source": [
    "Create index maps of categories and levels to speed up operations later."
   ]
  },
  {
   "cell_type": "code",
   "execution_count": null,
   "metadata": {},
   "outputs": [],
   "source": [
    "# Map category names to their indices.\n",
    "category_indices = dict()\n",
    "# Map level names to their indices.\n",
    "level_indices = dict()\n",
    "for i, category in enumerate(category_names):\n",
    "    category_indices[category] = i\n",
    "    category_rows = categories[categories['category'].str.match(category)]\n",
    "    j = 0\n",
    "    for _, row in category_rows.iterrows():\n",
    "        level_indices[row['level']] = j\n",
    "        j += 1"
   ]
  },
  {
   "cell_type": "markdown",
   "metadata": {},
   "source": [
    "Map each level to its category index."
   ]
  },
  {
   "cell_type": "code",
   "execution_count": null,
   "metadata": {},
   "outputs": [],
   "source": [
    "level_to_category_index = dict()\n",
    "for _, category_row in categories.iterrows():\n",
    "    level = category_row['level']\n",
    "    if level != 'None':\n",
    "        level_to_category_index[level] = category_indices[category_row['category']]"
   ]
  },
  {
   "cell_type": "markdown",
   "metadata": {},
   "source": [
    "Enumerate the level names per category."
   ]
  },
  {
   "cell_type": "code",
   "execution_count": null,
   "metadata": {},
   "outputs": [],
   "source": [
    "level_names = [['None'] for _ in range(len(category_names))]\n",
    "for _, category_row in categories.iterrows():\n",
    "    level = category_row['level']\n",
    "    if level == 'None':\n",
    "        continue\n",
    "    category_index = level_to_category_index[level]\n",
    "    level_names[category_index].append(level)\n",
    "level_names"
   ]
  },
  {
   "cell_type": "markdown",
   "metadata": {
    "colab_type": "text",
    "id": "VDQ_57oFUrLI"
   },
   "source": [
    "## Features"
   ]
  },
  {
   "cell_type": "markdown",
   "metadata": {},
   "source": [
    "### Text"
   ]
  },
  {
   "cell_type": "markdown",
   "metadata": {},
   "source": [
    "Count how many Amazon Kindle previews have been attempted to be collected."
   ]
  },
  {
   "cell_type": "code",
   "execution_count": null,
   "metadata": {},
   "outputs": [],
   "source": [
    "preview_book_ids = os.listdir(BOOKCAVE_AMAZON_ROOT)\n",
    "len(preview_book_ids), preview_book_ids[42]"
   ]
  },
  {
   "cell_type": "markdown",
   "metadata": {},
   "source": [
    "Extract raw book preview contents."
   ]
  },
  {
   "cell_type": "code",
   "execution_count": null,
   "metadata": {},
   "outputs": [],
   "source": [
    "book_id_to_preview = dict()\n",
    "pbar = tqdm.tqdm(total=len(preview_book_ids), position=0)\n",
    "for preview_book_id in preview_book_ids:\n",
    "    pbar.update(1)\n",
    "    if sys.platform == 'win32':\n",
    "        # One book folder is named:\n",
    "        # `diy-body-care-the-complete-body-care-guide-for-beginners-with-over-37-recipes-for-homemade-body-butters-body-scrubs-lotions-lip-balms-and-shampoos-body-care-essential-oils-organic-lotions`.\n",
    "        # To overcome a `FileNotFoundError` for this file, use an extended-length path on Windows.\n",
    "        # See `https://stackoverflow.com/questions/36219317/pathname-too-long-to-open/36219497`.\n",
    "        path = u'\\\\\\\\?\\\\' + os.path.abspath(os.path.join(BOOKCAVE_AMAZON_ROOT, preview_book_id, 'book.txt'))\n",
    "    #elif sys.platform == 'darwin':\n",
    "    else:\n",
    "        path = os.path.join(BOOKCAVE_AMAZON_ROOT, preview_book_id, 'book.txt')\n",
    "    try:\n",
    "        with open(path, 'r', encoding='utf-8') as fd:\n",
    "            contents = fd.read()\n",
    "            # Skip empty text files.\n",
    "            if len(contents) == 0:\n",
    "                continue\n",
    "            book_id_to_preview[preview_book_id] = contents\n",
    "    except FileNotFoundError:\n",
    "        pass\n",
    "pbar.close()\n",
    "len(book_id_to_preview)"
   ]
  },
  {
   "cell_type": "markdown",
   "metadata": {},
   "source": [
    "See a small exerpt of a preview."
   ]
  },
  {
   "cell_type": "code",
   "execution_count": null,
   "metadata": {},
   "outputs": [],
   "source": [
    "book_id_to_preview['the-art-of-love'][:100]"
   ]
  },
  {
   "cell_type": "markdown",
   "metadata": {},
   "source": [
    "Count how many previews exist for books with at least one rating."
   ]
  },
  {
   "cell_type": "code",
   "execution_count": null,
   "metadata": {},
   "outputs": [],
   "source": [
    "books = rated_books[rated_books['id'].isin(book_id_to_preview)]\n",
    "len(books)"
   ]
  },
  {
   "cell_type": "markdown",
   "metadata": {
    "colab": {
     "base_uri": "https://localhost:8080/",
     "height": 34
    },
    "colab_type": "code",
    "id": "1GPhxv8zUrKf",
    "outputId": "b14338b7-f4a4-4569-c79d-a638149192d3"
   },
   "source": [
    "Map book IDs to indices."
   ]
  },
  {
   "cell_type": "code",
   "execution_count": null,
   "metadata": {
    "colab": {
     "base_uri": "https://localhost:8080/",
     "height": 34
    },
    "colab_type": "code",
    "id": "1GPhxv8zUrKf",
    "outputId": "b14338b7-f4a4-4569-c79d-a638149192d3"
   },
   "outputs": [],
   "source": [
    "book_indices = dict()\n",
    "i = 0\n",
    "for _, book in books.iterrows():\n",
    "    book_indices[book['id']] = i\n",
    "    i += 1"
   ]
  },
  {
   "cell_type": "markdown",
   "metadata": {},
   "source": [
    "Likewise, create a fancy-indexable array of book IDs."
   ]
  },
  {
   "cell_type": "code",
   "execution_count": null,
   "metadata": {},
   "outputs": [],
   "source": [
    "book_ids = np.array([book['id'] for _, book in books.iterrows()])"
   ]
  },
  {
   "cell_type": "markdown",
   "metadata": {},
   "source": [
    "What does the file-length distribution look like?"
   ]
  },
  {
   "cell_type": "code",
   "execution_count": null,
   "metadata": {},
   "outputs": [],
   "source": [
    "raw_preview_lengths = [len(book_id_to_preview[book_id]) for book_id in book_ids]\n",
    "n, bins, patches = plt.hist(raw_preview_lengths, 200, density=True)\n",
    "plt.show()"
   ]
  },
  {
   "cell_type": "markdown",
   "metadata": {
    "colab_type": "text",
    "id": "xBqys65XU6YN"
   },
   "source": [
    "### Labels"
   ]
  },
  {
   "cell_type": "markdown",
   "metadata": {},
   "source": [
    "For each category, calculate the average rating for each book."
   ]
  },
  {
   "cell_type": "code",
   "execution_count": null,
   "metadata": {},
   "outputs": [],
   "source": [
    "y_cont = np.zeros((len(books), len(category_names)))\n",
    "# Add all levels together for each book.\n",
    "print('Adding...')\n",
    "for _, level in levels.iterrows():\n",
    "    book_id = level['book_id']\n",
    "    # Skip books which have a rating (and rating levels), but no preview text.\n",
    "    if book_id in book_indices:\n",
    "        # Add this rating level to its category for this book.\n",
    "        book_index = book_indices[book_id]\n",
    "        category_index = level_to_category_index[level['title']]\n",
    "        level_index = level_indices[level['title']]\n",
    "        y_cont[book_index, category_index] += level_index * level['count']\n",
    "# Calculate the average level for each book by dividing by the number of ratings for that book.\n",
    "print('Averaging...')\n",
    "for _, book in books.iterrows():\n",
    "    book_id = book['id']\n",
    "    book_index = book_indices[book_id]\n",
    "    y_cont[book_index] /= book['community_ratings_count']\n",
    "print('Done!')\n",
    "y_cont.shape"
   ]
  },
  {
   "cell_type": "markdown",
   "metadata": {
    "colab": {
     "base_uri": "https://localhost:8080/",
     "height": 545
    },
    "colab_type": "code",
    "id": "JNxFRFb5UrLL",
    "outputId": "abf1347e-18a1-434e-c118-83685bebc278"
   },
   "source": [
    "See an example of book rating levels."
   ]
  },
  {
   "cell_type": "code",
   "execution_count": null,
   "metadata": {
    "colab": {
     "base_uri": "https://localhost:8080/",
     "height": 545
    },
    "colab_type": "code",
    "id": "JNxFRFb5UrLL",
    "outputId": "abf1347e-18a1-434e-c118-83685bebc278"
   },
   "outputs": [],
   "source": [
    "levels[levels['book_id'] == 'the-art-of-love']"
   ]
  },
  {
   "cell_type": "markdown",
   "metadata": {
    "colab": {
     "base_uri": "https://localhost:8080/",
     "height": 68
    },
    "colab_type": "code",
    "id": "XGGO3XGaUrLO",
    "outputId": "8318f9a5-4a3d-4fe2-dc62-0e8f99f886cb"
   },
   "source": [
    "See how these rating levels are now represented as a vector of average rating levels per category."
   ]
  },
  {
   "cell_type": "code",
   "execution_count": null,
   "metadata": {
    "colab": {
     "base_uri": "https://localhost:8080/",
     "height": 68
    },
    "colab_type": "code",
    "id": "XGGO3XGaUrLO",
    "outputId": "8318f9a5-4a3d-4fe2-dc62-0e8f99f886cb"
   },
   "outputs": [],
   "source": [
    "y_cont[book_indices['the-art-of-love']]"
   ]
  },
  {
   "cell_type": "markdown",
   "metadata": {},
   "source": [
    "Since false negatives are less desirable than false positives, implement somewhat of a \"harsh critic\" by taking the ceiling of the average ratings."
   ]
  },
  {
   "cell_type": "code",
   "execution_count": null,
   "metadata": {},
   "outputs": [],
   "source": [
    "y = np.ceil(y_cont).astype(np.int32)\n",
    "y[book_indices['the-art-of-love']]"
   ]
  },
  {
   "cell_type": "markdown",
   "metadata": {},
   "source": [
    "Plot the label distribution for each category."
   ]
  },
  {
   "cell_type": "code",
   "execution_count": null,
   "metadata": {},
   "outputs": [],
   "source": [
    "def autolabel(ax, bars, text_color):\n",
    "    heights = [bar.get_height() for bar in bars]\n",
    "    max_height = max(heights)\n",
    "    for i, bar in enumerate(bars):\n",
    "        height = heights[i]\n",
    "        is_max = height == max_height\n",
    "        ax.text(bar.get_x() + bar.get_width()/2.,\n",
    "                height - 50 if is_max else height + 30,\n",
    "                '{}'.format(int(height)),\n",
    "                ha='center',\n",
    "                va='top' if is_max else 'bottom',\n",
    "                color=text_color if is_max else 'k')"
   ]
  },
  {
   "cell_type": "code",
   "execution_count": null,
   "metadata": {},
   "outputs": [],
   "source": [
    "category_colors = ['blue', 'green', 'pink', 'cyan', 'magenta', 'yellow', 'orange', 'red']\n",
    "category_text_colors = ['w', 'w', 'k', 'k', 'k', 'k', 'k', 'w']\n",
    "for category_index, category_name in enumerate(category_names):\n",
    "    bincount = np.bincount(y[:, category_index])\n",
    "    fig, ax = plt.subplots()\n",
    "    bars = ax.bar(level_names[category_index], bincount, color=category_colors[category_index])\n",
    "    ax.set_title(category_name)\n",
    "    ax.set_ylabel('# of occurrences')\n",
    "    ax.set_xticklabels(level_names[category_index], rotation=45, ha='right')\n",
    "    autolabel(ax, bars, category_text_colors[category_index])\n",
    "    plt.savefig(os.path.join(FIGURES_ROOT, 'label_dist_{}_{}.png'.format(category_index + 1, category_name)), bbox_inches='tight')\n",
    "    plt.show()\n",
    "    longest_level_name = max(len(level_name) for level_name in level_names[category_index])\n",
    "    for level_index, level_name in enumerate(level_names[category_index]):\n",
    "        spaces = ''.join(' ' for _ in range(longest_level_name - len(level_name)))\n",
    "        p = bincount[level_index]/len(y)\n",
    "        tens_digit_space = ' ' if p < .1 else ''\n",
    "        print('{}`{}`: {}{:.3%}'.format(spaces, level_name, tens_digit_space, p))"
   ]
  },
  {
   "cell_type": "code",
   "execution_count": null,
   "metadata": {},
   "outputs": [],
   "source": []
  }
 ],
 "metadata": {
  "colab": {
   "name": "bookcave.ipynb",
   "provenance": [],
   "toc_visible": true,
   "version": "0.3.2"
  },
  "kernelspec": {
   "display_name": "Python 3",
   "language": "python",
   "name": "python3"
  },
  "language_info": {
   "codemirror_mode": {
    "name": "ipython",
    "version": 3
   },
   "file_extension": ".py",
   "mimetype": "text/x-python",
   "name": "python",
   "nbconvert_exporter": "python",
   "pygments_lexer": "ipython3",
   "version": "3.6.4"
  }
 },
 "nbformat": 4,
 "nbformat_minor": 1
}
