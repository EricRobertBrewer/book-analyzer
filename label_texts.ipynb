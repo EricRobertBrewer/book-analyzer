{
 "cells": [
  {
   "cell_type": "markdown",
   "metadata": {},
   "source": [
    "# label_texts"
   ]
  },
  {
   "cell_type": "code",
   "execution_count": null,
   "metadata": {},
   "outputs": [],
   "source": [
    "import os\n",
    "import numpy as np\n",
    "from sklearn.feature_extraction.text import TfidfVectorizer\n",
    "from sklearn.feature_selection import chi2\n",
    "import IPython\n",
    "import ipywidgets as widgets\n",
    "\n",
    "from classification import ordinal\n",
    "import folders\n",
    "from sites.bookcave import bookcave\n",
    "from text import correlated_words, paragraph_io"
   ]
  },
  {
   "cell_type": "markdown",
   "metadata": {},
   "source": [
    "## Data"
   ]
  },
  {
   "cell_type": "code",
   "execution_count": null,
   "metadata": {},
   "outputs": [],
   "source": [
    "train_book_ids = reversed([\n",
    "    # Top 60 books with total 'hard' rating.\n",
    "    'bound-by-an-echo',\n",
    "    'betrayal-2',\n",
    "    'fashionably-dead',\n",
    "    'maid-for-the-rock-star',\n",
    "    'thats-a-promise',\n",
    "    'famished',\n",
    "    'orb-station-zero',\n",
    "    'thats-a-lie',\n",
    "    'gypsy-love',\n",
    "    'burn-the-dark',\n",
    "    'a-vampires-thirst-victor',\n",
    "    'forever-yours-3',\n",
    "    'wrecked',\n",
    "    'when-its-right',\n",
    "    'ariels-super-power-of-love',\n",
    "    'never-letting-go',\n",
    "    'man-eater',\n",
    "    'flare',\n",
    "    'the-evil-and-the-pure',\n",
    "    'zip-pt-zoingzoings-adventures-in-outer-space',\n",
    "    'there-are-worse-things-i-could-do',\n",
    "    'endless-evil',\n",
    "    'the-mistaken',\n",
    "    'forever-road',\n",
    "    'rebel',\n",
    "    'riftkeepers',\n",
    "    'sacrifices',\n",
    "    'protection-sex-revenge-romance',\n",
    "    'tangled-up-in-you',\n",
    "    'ready-to-were',\n",
    "    'the-missing-miss-mori',\n",
    "    'blood-bound-2',\n",
    "    'suddenly-us',\n",
    "    'finding-me',\n",
    "    'hologram-the-seduction-of-samantha-bowman',\n",
    "    'torture-mom',\n",
    "    'circus-of-horror',\n",
    "    'leather-lace',\n",
    "    'lustful-lies',\n",
    "    'highland-wolf-clan-the-reluctant-alpha',\n",
    "    'dark-thoughts',\n",
    "    'first-love-oakville-seriesbook-one',\n",
    "    'coming-home-5',\n",
    "    'saviour',\n",
    "    'werecat-the-rearing',\n",
    "    'clocks-watch',\n",
    "    'seven-eleven-forgotten-and-other-stories',\n",
    "    'hush-money-2',\n",
    "    'lux',\n",
    "    'lustful-letters',\n",
    "    'the-thousand-scars-series-book-two',\n",
    "    'free-the-dark',\n",
    "    'crowleys-cult',\n",
    "    'rated-r',\n",
    "    'nothing-but-darkness',\n",
    "    'more-than-friends-collection',\n",
    "    'puppet-master',\n",
    "    'mortal-showdown',\n",
    "    'unjustly-destroyed',\n",
    "    'to-betray-a-master'\n",
    "])"
   ]
  },
  {
   "cell_type": "code",
   "execution_count": null,
   "metadata": {},
   "outputs": [],
   "source": [
    "inputs, Y, categories, category_levels, book_ids, books_df, _, _, categories_df = \\\n",
    "    bookcave.get_data({'paragraphs', 'paragraph_tokens'},\n",
    "                      only_ids=train_book_ids,\n",
    "                      return_meta=True)\n",
    "paragraph_texts, token_texts = inputs['paragraphs'], inputs['paragraph_tokens']\n",
    "len(paragraph_texts), len(token_texts)"
   ]
  },
  {
   "cell_type": "markdown",
   "metadata": {},
   "source": [
    "### Paragraphs and Tokens"
   ]
  },
  {
   "cell_type": "code",
   "execution_count": null,
   "metadata": {},
   "outputs": [],
   "source": [
    "text_paragraphs, text_section_ids, text_sections = zip(*paragraph_texts)\n",
    "text_paragraph_tokens, _ = zip(*token_texts)\n",
    "len(text_paragraphs)"
   ]
  },
  {
   "cell_type": "code",
   "execution_count": null,
   "metadata": {},
   "outputs": [],
   "source": [
    "book_id_to_index = {book_id: i for i, book_id in enumerate(book_ids)}"
   ]
  },
  {
   "cell_type": "code",
   "execution_count": null,
   "metadata": {},
   "outputs": [],
   "source": [
    "first_category_rows = categories_df[categories_df['category'] == categories[0]]\n",
    "rating_names = [first_category_rows.iloc[i]['rating'] for i in range(len(first_category_rows))]\n",
    "rating_names"
   ]
  },
  {
   "cell_type": "code",
   "execution_count": null,
   "metadata": {},
   "outputs": [],
   "source": [
    "category_descriptions = [list(categories_df[categories_df['category'] == category]['description'])\n",
    "                         for category in categories]\n",
    "category_descriptions[0]"
   ]
  },
  {
   "cell_type": "markdown",
   "metadata": {},
   "source": [
    "### Correlated words"
   ]
  },
  {
   "cell_type": "code",
   "execution_count": null,
   "metadata": {},
   "outputs": [],
   "source": [
    "top_n = 64\n",
    "token_to_category_scores = dict()\n",
    "for category_i, category in enumerate(categories):\n",
    "    term_scores = correlated_words.read_formatted_term_scores(category, 6804, 1, 1, 8192, top_n)\n",
    "    for i, (term, score) in enumerate(term_scores):\n",
    "#         real_score = score\n",
    "        real_score = top_n - i\n",
    "        if term not in token_to_category_scores.keys():\n",
    "            token_to_category_scores[term] = []\n",
    "        token_to_category_scores[term].append((category_i, real_score))\n",
    "token_to_category_scores['shit']"
   ]
  },
  {
   "cell_type": "markdown",
   "metadata": {},
   "source": [
    "### Training Set"
   ]
  },
  {
   "cell_type": "code",
   "execution_count": null,
   "metadata": {},
   "outputs": [],
   "source": [
    "text_category_labels = []\n",
    "text_paragraph_h = []\n",
    "for book_id in book_ids:\n",
    "    i = book_id_to_index[book_id]\n",
    "    \n",
    "    # Load or create labels.\n",
    "    category_labels = []\n",
    "    asin = books_df[books_df['id'] == book_id].iloc[0]['asin']\n",
    "    for category in categories:\n",
    "        labels = bookcave.get_labels(asin, category)\n",
    "        if labels is None:\n",
    "            labels = [-1]*len(text_paragraphs[i])\n",
    "        category_labels.append(labels)\n",
    "    text_category_labels.append(category_labels)\n",
    "    \n",
    "    # Calculate maturity heuristic for each paragraph for each text.\n",
    "    paragraph_tokens = text_paragraph_tokens[i]\n",
    "    paragraph_h = []\n",
    "    for tokens in paragraph_tokens:\n",
    "        h = [0]*len(categories)\n",
    "        token_set = set(tokens)\n",
    "        for token in token_set:\n",
    "            if token in token_to_category_scores.keys():\n",
    "                for category_i, score in token_to_category_scores[token]:\n",
    "                    h[category_i] = max(h[category_i], score)\n",
    "        paragraph_h.append(sum(h))\n",
    "    text_paragraph_h.append(paragraph_h) "
   ]
  },
  {
   "cell_type": "markdown",
   "metadata": {},
   "source": [
    "Flatten."
   ]
  },
  {
   "cell_type": "code",
   "execution_count": null,
   "metadata": {},
   "outputs": [],
   "source": [
    "all_locations = []\n",
    "all_h = []\n",
    "for text_i, paragraph_h in enumerate(text_paragraph_h):\n",
    "    for paragraph_i, h in enumerate(paragraph_h):\n",
    "        all_locations.append((text_i, paragraph_i))\n",
    "        all_h.append(h)\n",
    "all_locations = np.array(all_locations)\n",
    "all_h = np.array(all_h)\n",
    "len(all_locations)"
   ]
  },
  {
   "cell_type": "code",
   "execution_count": null,
   "metadata": {},
   "outputs": [],
   "source": [
    "sorted_indices = np.argsort(all_h)[::-1]\n",
    "text_paragraphs[all_locations[sorted_indices[0]][0]][all_locations[sorted_indices[0]][1]]"
   ]
  },
  {
   "cell_type": "markdown",
   "metadata": {},
   "source": [
    "### Usage"
   ]
  },
  {
   "cell_type": "code",
   "execution_count": null,
   "metadata": {},
   "outputs": [],
   "source": [
    "# Dimensions: [text_i], [paragraph_i] = str\n",
    "text_paragraphs[0][0]"
   ]
  },
  {
   "cell_type": "code",
   "execution_count": null,
   "metadata": {},
   "outputs": [],
   "source": [
    "# Dimensions: [text_i], [paragraph_i] = int\n",
    "text_section_ids[0][0]"
   ]
  },
  {
   "cell_type": "code",
   "execution_count": null,
   "metadata": {},
   "outputs": [],
   "source": [
    "# Dimensions: [text_i], [section_id] = str\n",
    "text_sections[0][text_section_ids[0][0]]"
   ]
  },
  {
   "cell_type": "code",
   "execution_count": null,
   "metadata": {},
   "outputs": [],
   "source": [
    "# Dimensions: [text_i], [category_i], [paragraph_i] = int\n",
    "text_category_labels[0][0][:10]"
   ]
  },
  {
   "cell_type": "code",
   "execution_count": null,
   "metadata": {},
   "outputs": [],
   "source": [
    "# Dimensions: [location_i]\n",
    "all_locations[0]"
   ]
  },
  {
   "cell_type": "code",
   "execution_count": null,
   "metadata": {},
   "outputs": [],
   "source": [
    "# Dimensions: [sort_i]\n",
    "sorted_indices[0]"
   ]
  },
  {
   "cell_type": "markdown",
   "metadata": {},
   "source": [
    "## Label"
   ]
  },
  {
   "cell_type": "code",
   "execution_count": null,
   "metadata": {},
   "outputs": [],
   "source": [
    "# When `false`, interface skips paragraphs that have already been labeled.\n",
    "# When `true`, label each paragraph, even if it has already been labeled.\n",
    "do_overwrite = False"
   ]
  },
  {
   "cell_type": "markdown",
   "metadata": {},
   "source": [
    "Instantiate train index."
   ]
  },
  {
   "cell_type": "code",
   "execution_count": null,
   "metadata": {},
   "outputs": [],
   "source": [
    "sort_i = 0  # len(all_locations)//2\n",
    "text_i, paragraph_i = all_locations[sorted_indices[sort_i]]\n",
    "step_size = 10"
   ]
  },
  {
   "cell_type": "code",
   "execution_count": null,
   "metadata": {},
   "outputs": [],
   "source": [
    "def move_to_next_paragraph():\n",
    "    global sort_i\n",
    "    global text_i\n",
    "    global paragraph_i\n",
    "    \n",
    "    if sort_i == len(sorted_indices) - 1:\n",
    "        return False\n",
    "    \n",
    "    sort_i = min(len(sorted_indices) - 1, sort_i + step_size)\n",
    "    text_i, paragraph_i = all_locations[sorted_indices[sort_i]]\n",
    "    return True\n",
    "\n",
    "\n",
    "def move_to_previous_paragraph():\n",
    "    global sort_i\n",
    "    global text_i\n",
    "    global paragraph_i\n",
    "\n",
    "    if sort_i == 0:\n",
    "        return False\n",
    "    \n",
    "    sort_i = max(0, sort_i - step_size)\n",
    "    text_i, paragraph_i = all_locations[sorted_indices[sort_i]]\n",
    "    return True"
   ]
  },
  {
   "cell_type": "markdown",
   "metadata": {},
   "source": [
    "Create widgets."
   ]
  },
  {
   "cell_type": "code",
   "execution_count": null,
   "metadata": {},
   "outputs": [],
   "source": [
    "paragraph_html = widgets.HTML(value='')\n",
    "\n",
    "category_toggle_buttons = []\n",
    "for category_i, levels in enumerate(category_levels):\n",
    "    level_descriptions = category_descriptions[category_i]\n",
    "    options = []\n",
    "    description = bookcave.CATEGORY_NAMES[categories[category_i]]\n",
    "    tooltips = []\n",
    "    for level_i, level in enumerate(levels):\n",
    "        options.append((rating_names[level_i], level_i))\n",
    "        split_levels = '\\n'.join(level.split('|'))\n",
    "        level_description = level_descriptions[level_i]\n",
    "        split_level_descriptions = '\\n'.join(level_description.split('|'))\n",
    "        tooltips.append('{}\\n\\n{}'.format(split_levels, split_level_descriptions))\n",
    "    toggle_buttons = widgets.ToggleButtons(\n",
    "        options=options,\n",
    "        description=description,\n",
    "        disabled=False,\n",
    "        button_style='', # 'success', 'info', 'warning', 'danger' or ''\n",
    "        tooltips=tooltips\n",
    "    )\n",
    "    category_toggle_buttons.append(toggle_buttons)\n",
    "\n",
    "\n",
    "def on_submit_button_clicked(button):\n",
    "    # Collect the answers.\n",
    "    for category_i, levels in enumerate(category_levels):\n",
    "        y = category_toggle_buttons[category_i].value\n",
    "        text_category_labels[text_i][category_i][paragraph_i] = y\n",
    "\n",
    "    moved = move_to_next_paragraph()\n",
    "    if not do_overwrite:\n",
    "        while moved and all([text_category_labels[text_i][category_i][paragraph_i] != -1\n",
    "                             for category_i in range(len(categories))]):\n",
    "            moved = move_to_next_paragraph()\n",
    "\n",
    "    if moved:\n",
    "        display_paragraph_interface()\n",
    "    else:\n",
    "        print('Finished training on {:d} books.'.format(len(text_paragraphs)))\n",
    "\n",
    "\n",
    "submit_button = widgets.Button(\n",
    "    description='Submit',\n",
    "    disabled=False,\n",
    "    button_style='success', # 'success', 'info', 'warning', 'danger' or ''\n",
    "    tooltip='Submit the above values as the categorical maturity rating levels for this paragraph.\\nThen move on to the next paragraph.',\n",
    "    icon='check'\n",
    ")\n",
    "submit_button.on_click(on_submit_button_clicked)\n",
    "\n",
    "\n",
    "def on_back_button_clicked(button):\n",
    "    moved_back = move_to_previous_paragraph()\n",
    "    if moved_back:\n",
    "        display_paragraph_interface()\n",
    "    else:\n",
    "        print('Cannot move to previous paragraph.')\n",
    "\n",
    "\n",
    "back_button = widgets.Button(\n",
    "    description='Back',\n",
    "    disabled=False,\n",
    "    button_style='warning',\n",
    "    tooltip='Move to the previous paragraph.'\n",
    ")\n",
    "back_button.on_click(on_back_button_clicked)"
   ]
  },
  {
   "cell_type": "markdown",
   "metadata": {},
   "source": [
    "Start labeling."
   ]
  },
  {
   "cell_type": "code",
   "execution_count": null,
   "metadata": {},
   "outputs": [],
   "source": [
    "def display_paragraph_interface():\n",
    "    # Calculate meta data.\n",
    "    book_id = book_ids[text_i]\n",
    "    book_index = book_id_to_index[book_id]\n",
    "    book_title = books_df.iloc[book_index]['title']\n",
    "    book_authors = books_df.iloc[book_index]['authors']\n",
    "    book_y = Y[:, book_index]\n",
    "    \n",
    "    section_i = text_section_ids[text_i][paragraph_i]\n",
    "    sections = text_sections[text_i]\n",
    "    section = sections[section_i]\n",
    "    paragraph = text_paragraphs[text_i][paragraph_i]\n",
    "    \n",
    "    # Clear any previous output in this cell.\n",
    "    IPython.display.clear_output(wait=True)\n",
    "    \n",
    "    # Print meta data.\n",
    "    c_width = 114\n",
    "    print('-'*c_width)\n",
    "    print('{} [book {:d} of {:d}]'.format(book_title, text_i + 1, len(book_ids)))\n",
    "    print('{}'.format(book_authors))\n",
    "    print()\n",
    "    print('Actual categorical rating levels:')\n",
    "    for category_i, level_i in enumerate(book_y):\n",
    "        category = categories[category_i]\n",
    "        level = category_levels[category_i][level_i]\n",
    "        print('  {:28}: {} ({})'.format(category, rating_names[level_i], level))\n",
    "    print('-'*c_width)\n",
    "    print()\n",
    "    print('What are the categorical maturity rating levels for this paragraph?')\n",
    "    \n",
    "    # Update toggle buttons from existing labels or predictions.\n",
    "    if all([text_category_labels[text_i][category_i][paragraph_i] != -1 for category_i in range(len(categories))]):\n",
    "        for category_i, toggle_buttons in enumerate(category_toggle_buttons):\n",
    "            toggle_buttons.value = text_category_labels[text_i][category_i][paragraph_i]\n",
    "    else:\n",
    "        for toggle_buttons in category_toggle_buttons:\n",
    "            toggle_buttons.value = 0\n",
    "    \n",
    "    # Display toggle buttons.\n",
    "    for toggle_buttons in category_toggle_buttons:\n",
    "        IPython.display.display(toggle_buttons)\n",
    "    \n",
    "    # Display submit button.\n",
    "    IPython.display.display(submit_button)\n",
    "    \n",
    "    print()\n",
    "    print('{} [section {:d} of {:d}]'.format(section, section_i + 1, len(sections)))\n",
    "    print()\n",
    "    print('[paragraph {:d} of {:d}]'.format(paragraph_i + 1, len(text_paragraphs[text_i])))\n",
    "    print('='*c_width)\n",
    "    paragraph_html.value = '<p style=\"font-size:large;margin-left:8em;max-width:36em;\">{}</p>'.format(paragraph)\n",
    "    IPython.display.display(paragraph_html)\n",
    "    print('='*c_width)\n",
    "    \n",
    "    # Display back button.\n",
    "    IPython.display.display(back_button)"
   ]
  },
  {
   "cell_type": "code",
   "execution_count": null,
   "metadata": {},
   "outputs": [],
   "source": [
    "display_paragraph_interface()"
   ]
  },
  {
   "cell_type": "markdown",
   "metadata": {},
   "source": [
    "Save training labels."
   ]
  },
  {
   "cell_type": "code",
   "execution_count": null,
   "metadata": {},
   "outputs": [],
   "source": [
    "for text_i in range(len(text_category_labels)):\n",
    "    book_id = book_ids[text_i]\n",
    "    asin = books_df[books_df['id'] == book_id].iloc[0]['asin']\n",
    "\n",
    "    for category_i, category in enumerate(categories):\n",
    "        sections = text_sections[text_i]\n",
    "        section_ids = text_section_ids[text_i]\n",
    "        labels = text_category_labels[text_i][category_i]\n",
    "        bookcave.save_labels(asin, category, sections, section_ids, labels, force=True, verbose=0)"
   ]
  },
  {
   "cell_type": "code",
   "execution_count": null,
   "metadata": {},
   "outputs": [],
   "source": []
  }
 ],
 "metadata": {
  "kernelspec": {
   "display_name": "Python 3",
   "language": "python",
   "name": "python3"
  },
  "language_info": {
   "codemirror_mode": {
    "name": "ipython",
    "version": 3
   },
   "file_extension": ".py",
   "mimetype": "text/x-python",
   "name": "python",
   "nbconvert_exporter": "python",
   "pygments_lexer": "ipython3",
   "version": "3.7.4"
  }
 },
 "nbformat": 4,
 "nbformat_minor": 2
}
