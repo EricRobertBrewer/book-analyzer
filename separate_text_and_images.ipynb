{
 "cells": [
  {
   "cell_type": "markdown",
   "metadata": {},
   "source": [
    "# separate_text_and_images"
   ]
  },
  {
   "cell_type": "code",
   "execution_count": null,
   "metadata": {},
   "outputs": [],
   "source": [
    "import os"
   ]
  },
  {
   "cell_type": "code",
   "execution_count": null,
   "metadata": {},
   "outputs": [],
   "source": [
    "AMAZON_KINDLE_PATH = os.path.join('..', 'content', 'amazon_kindle-active')\n",
    "AMAZON_KINDLE_TEXT_PATH = os.path.join(AMAZON_KINDLE_PATH, 'text')\n",
    "try:\n",
    "    os.mkdir(AMAZON_KINDLE_TEXT_PATH)\n",
    "except FileExistsError:\n",
    "    pass\n",
    "AMAZON_KINDLE_IMAGES_PATH = os.path.join(AMAZON_KINDLE_PATH, 'images')\n",
    "try:\n",
    "    os.mkdir(AMAZON_KINDLE_IMAGES_PATH)\n",
    "except FileExistsError:\n",
    "    pass"
   ]
  },
  {
   "cell_type": "code",
   "execution_count": null,
   "metadata": {},
   "outputs": [],
   "source": [
    "book_asins = os.listdir(AMAZON_KINDLE_PATH)\n",
    "len(book_asins)"
   ]
  },
  {
   "cell_type": "code",
   "execution_count": null,
   "metadata": {},
   "outputs": [],
   "source": [
    "for book_asin in book_asins:\n",
    "    if book_asin == 'text' or book_asin == 'images':\n",
    "        continue\n",
    "\n",
    "    book_folder_path = os.path.join(AMAZON_KINDLE_PATH, book_asin)\n",
    "    fnames = os.listdir(book_folder_path)\n",
    "    for fname in fnames:\n",
    "        path = os.path.join(book_folder_path, fname)\n",
    "        if path.endswith('.txt'):\n",
    "            text_path = os.path.join(AMAZON_KINDLE_TEXT_PATH, book_asin)\n",
    "            if not os.path.exists(text_path):\n",
    "                os.mkdir(text_path)\n",
    "            os.rename(path, os.path.join(text_path, fname))\n",
    "        else:\n",
    "            images_path = os.path.join(AMAZON_KINDLE_IMAGES_PATH, book_asin)\n",
    "            if not os.path.exists(images_path):\n",
    "                os.mkdir(images_path)\n",
    "            os.rename(path, os.path.join(images_path, fname))"
   ]
  },
  {
   "cell_type": "code",
   "execution_count": null,
   "metadata": {},
   "outputs": [],
   "source": [
    "for book_asin in book_asins:\n",
    "    book_folder_path = os.path.join(AMAZON_KINDLE_PATH, book_asin)\n",
    "    fnames = os.listdir(book_folder_path)\n",
    "    if len(fnames) == 0:\n",
    "        os.rmdir(book_folder_path)"
   ]
  },
  {
   "cell_type": "code",
   "execution_count": null,
   "metadata": {},
   "outputs": [],
   "source": []
  }
 ],
 "metadata": {
  "kernelspec": {
   "display_name": "Python 3",
   "language": "python",
   "name": "python3"
  },
  "language_info": {
   "codemirror_mode": {
    "name": "ipython",
    "version": 3
   },
   "file_extension": ".py",
   "mimetype": "text/x-python",
   "name": "python",
   "nbconvert_exporter": "python",
   "pygments_lexer": "ipython3",
   "version": "3.6.8"
  }
 },
 "nbformat": 4,
 "nbformat_minor": 2
}
