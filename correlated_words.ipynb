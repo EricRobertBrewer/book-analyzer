{
 "cells": [
  {
   "cell_type": "markdown",
   "metadata": {},
   "source": [
    "# correlated_words"
   ]
  },
  {
   "cell_type": "code",
   "execution_count": null,
   "metadata": {},
   "outputs": [],
   "source": [
    "import numpy as np\n",
    "import matplotlib.pyplot as plt\n",
    "import sklearn\n",
    "from sklearn.feature_extraction.text import TfidfVectorizer\n",
    "\n",
    "import bookcave\n",
    "from classification import ordinal"
   ]
  },
  {
   "cell_type": "code",
   "execution_count": null,
   "metadata": {},
   "outputs": [],
   "source": [
    "inputs, Y, categories, levels = bookcave.get_data(\n",
    "    media={'text'},\n",
    "    text_source='book',\n",
    "    text_input='filename',\n",
    "    categories_mode='soft',\n",
    "    combine_ratings='max')\n",
    "texts = inputs['text']\n",
    "len(texts)"
   ]
  },
  {
   "cell_type": "code",
   "execution_count": null,
   "metadata": {},
   "outputs": [],
   "source": [
    "vectorizer = TfidfVectorizer(\n",
    "    input='filename',\n",
    "    encoding='utf-8',\n",
    "    stop_words='english',\n",
    "    ngram_range=(1, 2),\n",
    "    min_df=2,\n",
    "    max_features=8192,\n",
    "    norm='l2',\n",
    "    sublinear_tf=True)"
   ]
  },
  {
   "cell_type": "code",
   "execution_count": null,
   "metadata": {},
   "outputs": [],
   "source": [
    "X = vectorizer.fit_transform(texts)"
   ]
  },
  {
   "cell_type": "markdown",
   "metadata": {},
   "source": [
    "See [Multi Class Text Classification article](https://towardsdatascience.com/multi-class-text-classification-with-scikit-learn-12f1e60e0a9f)."
   ]
  },
  {
   "cell_type": "code",
   "execution_count": null,
   "metadata": {
    "scrolled": true
   },
   "outputs": [],
   "source": [
    "def print_sensitive_terms(X, Y, topn=10, use_ordinal=True):\n",
    "    for category_index, category in enumerate(categories):\n",
    "        print('{}'.format(category))\n",
    "        y = Y[category_index]\n",
    "        if use_ordinal:\n",
    "            for level_index in range(len(levels[category_index]) - 1):\n",
    "                y_hat = ordinal.to_simple_ordinal(y, level_index)  # .astype(np.bool)\n",
    "                print_sensitive_terms_(y_hat, topn)\n",
    "        else:\n",
    "            print_sensitive_terms_(y, topn)\n",
    "\n",
    "def print_sensitive_terms_(y_hat, topn=10):\n",
    "    chi2, pval = sklearn.feature_selection.chi2(X, y_hat)\n",
    "    indices = np.argsort(chi2)\n",
    "    sensitive_terms = np.array(vectorizer.get_feature_names())\n",
    "    print('  >= {}'.format(levels[category_index][level_index + 1]))\n",
    "    for n, i in enumerate(list(reversed(indices[-topn:]))):\n",
    "        print('    {:3d}: {:24s}    chi2: {:5.2f}    p: {:.8f}'.format(n + 1, sensitive_terms[i], chi2[i], pval[i]))"
   ]
  },
  {
   "cell_type": "code",
   "execution_count": null,
   "metadata": {
    "scrolled": false
   },
   "outputs": [],
   "source": [
    "print_sensitive_terms(X, Y, topn=4, use_ordinal=False)"
   ]
  },
  {
   "cell_type": "code",
   "execution_count": null,
   "metadata": {},
   "outputs": [],
   "source": []
  }
 ],
 "metadata": {
  "kernelspec": {
   "display_name": "Python 3",
   "language": "python",
   "name": "python3"
  },
  "language_info": {
   "codemirror_mode": {
    "name": "ipython",
    "version": 3
   },
   "file_extension": ".py",
   "mimetype": "text/x-python",
   "name": "python",
   "nbconvert_exporter": "python",
   "pygments_lexer": "ipython3",
   "version": "3.6.8"
  }
 },
 "nbformat": 4,
 "nbformat_minor": 2
}
