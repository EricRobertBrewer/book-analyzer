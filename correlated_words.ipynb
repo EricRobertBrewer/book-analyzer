{
 "cells": [
  {
   "cell_type": "markdown",
   "metadata": {},
   "source": [
    "# correlated_words"
   ]
  },
  {
   "cell_type": "code",
   "execution_count": null,
   "metadata": {},
   "outputs": [],
   "source": [
    "import numpy as np\n",
    "import matplotlib.pyplot as plt\n",
    "from sklearn.feature_extraction.text import TfidfVectorizer\n",
    "from sklearn.feature_selection import chi2\n",
    "\n",
    "import bookcave\n",
    "from classification import ordinal"
   ]
  },
  {
   "cell_type": "code",
   "execution_count": null,
   "metadata": {},
   "outputs": [],
   "source": [
    "inputs, Y, categories, levels = bookcave.get_data(\n",
    "    media={'text'},\n",
    "    text_source='book',\n",
    "    text_input='filename',\n",
    "    categories_mode='soft',\n",
    "    combine_ratings='max')\n",
    "texts = inputs['text']"
   ]
  },
  {
   "cell_type": "code",
   "execution_count": null,
   "metadata": {},
   "outputs": [],
   "source": [
    "vectorizer = TfidfVectorizer(\n",
    "    input='filename',\n",
    "    encoding='utf-8',\n",
    "    stop_words='english',\n",
    "    ngram_range=(1, 2),\n",
    "    min_df=2,\n",
    "    max_features=8192,\n",
    "    norm='l2',\n",
    "    sublinear_tf=True)"
   ]
  },
  {
   "cell_type": "code",
   "execution_count": null,
   "metadata": {},
   "outputs": [],
   "source": [
    "X = vectorizer.fit_transform(texts)"
   ]
  },
  {
   "cell_type": "markdown",
   "metadata": {},
   "source": [
    "See [Towards Data Science article](https://towardsdatascience.com/multi-class-text-classification-with-scikit-learn-12f1e60e0a9f)."
   ]
  },
  {
   "cell_type": "code",
   "execution_count": null,
   "metadata": {},
   "outputs": [],
   "source": [
    "n = 20\n",
    "for category_index, category in enumerate(categories):\n",
    "    print('{}'.format(category))\n",
    "    y = Y[:, category_index]\n",
    "    for level_index in range(len(levels[category_index]) - 1):\n",
    "        y_ordinal = ordinal.to_simple_ordinal(y, level_index)\n",
    "        scores = chi2(X, y_ordinal.astype(np.bool))  # Fix!!\n",
    "        indices = np.argsort(scores[0])\n",
    "        sensitive_words = np.array(vectorizer.get_feature_names())[indices]\n",
    "        unigrams = [v for v in sensitive_words if len(v.split(' ')) == 1]\n",
    "        bigrams = [v for v in sensitive_words if len(v.split(' ')) == 2]\n",
    "        print('  Level >= {}'.format(levels[category_index][level_index + 1]))\n",
    "        print('    Most correlated unigrams:')\n",
    "        for unigram in unigrams[-n:]:\n",
    "            print('      {}'.format(unigram))\n",
    "        print('    Most correlated bigrams:')\n",
    "        for bigram in bigrams[-n:]:\n",
    "            print('      {}'.format(bigram))"
   ]
  },
  {
   "cell_type": "code",
   "execution_count": null,
   "metadata": {},
   "outputs": [],
   "source": []
  }
 ],
 "metadata": {
  "kernelspec": {
   "display_name": "Python 3",
   "language": "python",
   "name": "python3"
  },
  "language_info": {
   "codemirror_mode": {
    "name": "ipython",
    "version": 3
   },
   "file_extension": ".py",
   "mimetype": "text/x-python",
   "name": "python",
   "nbconvert_exporter": "python",
   "pygments_lexer": "ipython3",
   "version": "3.6.8"
  }
 },
 "nbformat": 4,
 "nbformat_minor": 2
}
