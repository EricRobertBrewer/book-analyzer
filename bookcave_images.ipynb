{
 "cells": [
  {
   "cell_type": "markdown",
   "metadata": {},
   "source": [
    "# bookcave_images"
   ]
  },
  {
   "cell_type": "markdown",
   "metadata": {},
   "source": [
    "## Set Up"
   ]
  },
  {
   "cell_type": "code",
   "execution_count": null,
   "metadata": {},
   "outputs": [],
   "source": [
    "# Math.\n",
    "import numpy as np\n",
    "# Visualization.\n",
    "import matplotlib.pyplot as plt\n",
    "# File I/O.\n",
    "import os\n",
    "# Images\n",
    "from PIL import Image\n",
    "import keras\n",
    "\n",
    "# Data.\n",
    "import bookcave"
   ]
  },
  {
   "cell_type": "markdown",
   "metadata": {},
   "source": [
    "Declare file path constants."
   ]
  },
  {
   "cell_type": "code",
   "execution_count": null,
   "metadata": {},
   "outputs": [],
   "source": [
    "FIGURES_ROOT = os.path.join('..', 'figures')\n",
    "try:\n",
    "    os.mkdir(FIGURES_ROOT)\n",
    "except FileExistsError:\n",
    "    pass"
   ]
  },
  {
   "cell_type": "markdown",
   "metadata": {},
   "source": [
    "Read all of the image files."
   ]
  },
  {
   "cell_type": "code",
   "execution_count": null,
   "metadata": {},
   "outputs": [],
   "source": [
    "inputs, _, _, _, book_ids, _, _, _, _ = bookcave.get_data({'text', 'images'}, return_meta=True)"
   ]
  },
  {
   "cell_type": "markdown",
   "metadata": {},
   "source": [
    "## Images"
   ]
  },
  {
   "cell_type": "code",
   "execution_count": null,
   "metadata": {},
   "outputs": [],
   "source": [
    "image_fnames = np.array([images[0] for images in inputs['images']])\n",
    "len(image_fnames)"
   ]
  },
  {
   "cell_type": "markdown",
   "metadata": {},
   "source": [
    "See an example cover image."
   ]
  },
  {
   "cell_type": "code",
   "execution_count": null,
   "metadata": {},
   "outputs": [],
   "source": [
    "book_ids[42]"
   ]
  },
  {
   "cell_type": "code",
   "execution_count": null,
   "metadata": {},
   "outputs": [],
   "source": [
    "example_image = Image.open(image_fnames[42])\n",
    "plt.imshow(example_image)"
   ]
  },
  {
   "cell_type": "code",
   "execution_count": null,
   "metadata": {},
   "outputs": [],
   "source": [
    "example_tensor = keras.preprocessing.image.img_to_array(example_image)\n",
    "example_tensor.shape"
   ]
  },
  {
   "cell_type": "markdown",
   "metadata": {},
   "source": [
    "What does the file size distribution look like?"
   ]
  },
  {
   "cell_type": "code",
   "execution_count": null,
   "metadata": {},
   "outputs": [],
   "source": [
    "image_sizes = np.array([os.path.getsize(fname) for fname in image_fnames])\n",
    "plt.hist(image_sizes, 40)\n",
    "plt.show()"
   ]
  },
  {
   "cell_type": "markdown",
   "metadata": {},
   "source": [
    "Which are the largest image files?"
   ]
  },
  {
   "cell_type": "code",
   "execution_count": null,
   "metadata": {},
   "outputs": [],
   "source": [
    "largest_image_size_indices = np.argpartition(image_sizes, -10)[-10:]\n",
    "sorted_largest_image_size_indices = largest_image_size_indices[np.argsort(image_sizes[largest_image_size_indices])]\n",
    "largest_book_id_sizes = list(zip(book_ids[sorted_largest_image_size_indices],\n",
    "                                 image_sizes[sorted_largest_image_size_indices]))\n",
    "largest_book_id_sizes"
   ]
  },
  {
   "cell_type": "markdown",
   "metadata": {},
   "source": [
    "Zoom in."
   ]
  },
  {
   "cell_type": "code",
   "execution_count": null,
   "metadata": {},
   "outputs": [],
   "source": [
    "majority_image_sizes = np.array([size for size in image_sizes if size < 150000])\n",
    "plt.hist(majority_image_sizes, 40)\n",
    "plt.show()"
   ]
  },
  {
   "cell_type": "markdown",
   "metadata": {},
   "source": [
    "Which are the smallest image files?"
   ]
  },
  {
   "cell_type": "code",
   "execution_count": null,
   "metadata": {},
   "outputs": [],
   "source": [
    "smallest_image_size_indices = np.argpartition(image_sizes, 20)[:20]\n",
    "sorted_smallest_image_size_indices = smallest_image_size_indices[np.argsort(image_sizes[smallest_image_size_indices])]\n",
    "smallest_book_id_sizes = list(zip(book_ids[sorted_smallest_image_size_indices],\n",
    "                                  image_sizes[sorted_smallest_image_size_indices]))\n",
    "smallest_book_id_sizes"
   ]
  },
  {
   "cell_type": "code",
   "execution_count": null,
   "metadata": {},
   "outputs": [],
   "source": [
    "for fname in image_fnames[sorted_smallest_image_size_indices]:\n",
    "    image = Image.open(fname)\n",
    "    plt.figure()\n",
    "    plt.imshow(image)\n",
    "    plt.show()"
   ]
  },
  {
   "cell_type": "markdown",
   "metadata": {},
   "source": [
    "Zoom in more."
   ]
  },
  {
   "cell_type": "code",
   "execution_count": null,
   "metadata": {},
   "outputs": [],
   "source": [
    "more_majority_image_sizes = np.array([size for size in majority_image_sizes if size > 90000])\n",
    "plt.hist(more_majority_image_sizes, 40)\n",
    "plt.show()"
   ]
  },
  {
   "cell_type": "markdown",
   "metadata": {},
   "source": [
    "View the distribution of image dimensions in pixels."
   ]
  },
  {
   "cell_type": "code",
   "execution_count": null,
   "metadata": {},
   "outputs": [],
   "source": [
    "shapes = np.ndarray((len(image_fnames), 3), dtype=np.int32)\n",
    "for i, fname in enumerate(image_fnames):\n",
    "    tensor = keras.preprocessing.image.img_to_array(Image.open(fname))\n",
    "    shapes[i] = tensor.shape"
   ]
  },
  {
   "cell_type": "code",
   "execution_count": null,
   "metadata": {},
   "outputs": [],
   "source": [
    "widths = np.array([shape[1] for shape in shapes])\n",
    "plt.hist(widths, 40)\n",
    "plt.show()"
   ]
  },
  {
   "cell_type": "code",
   "execution_count": null,
   "metadata": {},
   "outputs": [],
   "source": [
    "heights = np.array([shape[0] for shape in shapes])\n",
    "plt.hist(heights, 40)\n",
    "plt.show()"
   ]
  },
  {
   "cell_type": "code",
   "execution_count": null,
   "metadata": {},
   "outputs": [],
   "source": [
    "aspects = np.array([shape[1] / shape[0] for shape in shapes])\n",
    "plt.hist(aspects, 40)\n",
    "plt.show()"
   ]
  },
  {
   "cell_type": "code",
   "execution_count": null,
   "metadata": {},
   "outputs": [],
   "source": [
    "plt.hist([aspect for aspect in aspects if aspect <= 1.0], 40)\n",
    "plt.show()"
   ]
  },
  {
   "cell_type": "code",
   "execution_count": null,
   "metadata": {},
   "outputs": [],
   "source": []
  }
 ],
 "metadata": {
  "kernelspec": {
   "display_name": "Python 3",
   "language": "python",
   "name": "python3"
  },
  "language_info": {
   "codemirror_mode": {
    "name": "ipython",
    "version": 3
   },
   "file_extension": ".py",
   "mimetype": "text/x-python",
   "name": "python",
   "nbconvert_exporter": "python",
   "pygments_lexer": "ipython3",
   "version": "3.6.8"
  }
 },
 "nbformat": 4,
 "nbformat_minor": 2
}
